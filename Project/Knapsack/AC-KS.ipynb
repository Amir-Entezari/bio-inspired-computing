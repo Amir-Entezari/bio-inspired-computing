{
 "cells": [
  {
   "attachments": {},
   "cell_type": "markdown",
   "metadata": {},
   "source": [
    "# knapsack problem using Ant Colony algorithm"
   ]
  },
  {
   "attachments": {},
   "cell_type": "markdown",
   "metadata": {},
   "source": [
    "# الگوریتم کلی\n",
    "۱- پارامترهای الگوریتم شامل اندازه جمعیت، اندازه مجموعه، تعداد زیر مجموعه ها، آرایه هزینه های زیر مجموعه ها، زیر مجموعه ها، پارامتر آلفا و بتا و نرخ تبخیر را مقدار دهی اولیه میکنیم.\n",
    "۲- با انتخاب تصادفی زیرمجموعه های مجموعه داده شده، یک جمعیت اولیه از مورچه ها ایجاد میکنیم.\n",
    "۳- فیتنس هر مورچه در جمعیت را با استفاده از تابع تناسب محاسبه میکنیم.\n",
    "۴- دنباله فرمون را بر اساس فیتنس راه حل مورچه به روز میکنیم.\n",
    "۵- آرایه فرمون را بر اساس نرخ تبخیر تبخیر میکنیم.\n",
    "۶- مراحل 2-5 را تکرار میکنیم تا زمانی که یک معیار توقف (مثلاً حداکثر تعداد تکرار یا معیار همگرایی) برآورده شود.\n",
    "۷- بهترین راه حل پیدا شده توسط مورچه ها را به عنوان راه حل نهایی انتخاب میکنیم."
   ]
  },
  {
   "cell_type": "code",
   "execution_count": 35,
   "metadata": {},
   "outputs": [],
   "source": [
    "import random\n",
    "import numpy as np\n",
    "import time\n",
    "from math import sqrt, ceil\n"
   ]
  },
  {
   "attachments": {},
   "cell_type": "markdown",
   "metadata": {},
   "source": [
    "### کلاس AntColony:\n",
    "\n",
    "کلاس AntColony کلاس اصلی است که الگوریتم Ant Colony را پیاده سازی می کند. این کلاس چندین تایع دارد که برای مقداردهی اولیه الگوریتم، تولید جمعیت اولیه، محاسبه فیتنس هر مورچه و به روز رسانی دنباله فرمون استفاده می شود.\n",
    "\n",
    "#### تابع init:\n",
    "\n",
    "روش init ثابت ها و آرایه های مورد استفاده در الگوریتم را مقداردهی اولیه می کند. pop_size، set_size، subsets_size، subsets_costs_array، subsets، alpha، beta و evap_val ثابت های مورد استفاده در الگوریتم هستند. جمعیت، آرایه_فرومونی و fitness_arr آرایه هایی هستند که در روش algorithm.initial استفاده می شوند:\n",
    "\n",
    "تابع initialنیز برای تولید جمعیت اولیه و محاسبه فیتنس مورچه های اولیه استفاده می شود. جمعیت با انتخاب تصادفی زیرمجموعه های مجموعه داده شده ایجاد می شود. تناسب اندام هر مورچه با استفاده از روش fitness_function محاسبه می شود.\n",
    "\n",
    "#### تابع fitness_function:\n",
    "\n",
    "تابع fitness_function فیتنس یک مورچه را با جمع کردن ارزش کالای های موجود در راه‌حل مورچه محاسبه می‌کند. \n",
    "\n",
    "#### تابع های evaporation_pheromone و evaporation_pheromone_array:\n",
    "\n",
    "روش تبخیر_فرومون برای تبخیر فرمون در زیر مجموعه بر اساس میزان تبخیر استفاده می شود. روش تبخیر_فرومون_آرایه برای تبخیر فرمون در تمامی زیر مجموعه ها بر اساس نرخ تبخیر استفاده می شود.\n",
    "\n",
    "#### تابع calc_pheromone_array:\n",
    "در این تابع فورومون های موجود بر روی هر زیرمجموعه، براساس تابعی از برازش راه حل ارائه شده شده توسط مورچه جایگذاری میشود. که این مقدار از فرمولی محاسبه میشود که بدین صورت است که فورمون قبلی و برازش راه حل ارائه شده. در واقع اگر راه حلی دارای هزینه کمتر باشد، برازش بیشتری دارد و درنتیجه فورمون  بیشتری دریافت میکند. همچنین تابع گفته شده را میتوان به عنوان پارامتر این تابع ورودی داد تا نحوه تاثیر برازش راه حل متفاوت شود. هر چه این تاثیر بیشتر شود، میزان انتفاع نیز بیشتر میشود.\n",
    "\n",
    "\n",
    "#### تابع select_next_obg:\n",
    "تابع select_next_obg برای انتخاب کالا های بعدی برای اضافه کردن به راه حل مورچه استفاده می شود. این تابع از توزیع احتمال وزن دار برای انتخاب کالا بعدی استفاده می کند. وزن هر کالا بر اساس دنباله فرمون و اطلاعات اکتشافی محاسبه می شود. دنباله فرمون به توان آلفا و اطلاعات اکتشافی به توان بتا می‌رسد. اطلاعات اکتشافی به عنوان تعداد عناصر جدیدی که با اضافه کردن کالا تقسیم بر هزینه کالا پوشش داده می شود، محاسبه می شود.همچنین تقسیم این قسمت باعث بهتر شدن سرعت الگوریتم شد و به همین دلیل حذف شد\n",
    "\n",
    "#### تابع ant_tour:\n",
    "روش ant_tour برای تولید یک راه حل برای مورچه استفاده می شود. این روش از روش select_next_obg برای انتخاب زیرمجموعه بعدی برای اضافه کردن به راه حل استفاده می کند تا زمانی که تمام عناصر مجموعه داده شده پوشش داده شوند.\n",
    "\n",
    "#### تابع next_itation:\n",
    "تابع next_iteration برای تولید یک جمعیت جدید با ایجاد یک راه حل برای هر مورچه در جمعیت فعلی استفاده می شود. فیتنس هر مورچه محاسبه می شود و دنباله فرمون به روز می شود. در نهایت، دنباله فرمون بر اساس نرخ تبخیر تبخیر می شود.\n",
    "\n"
   ]
  },
  {
   "cell_type": "code",
   "execution_count": 36,
   "metadata": {},
   "outputs": [],
   "source": [
    "class AntColony:\n",
    "    def __init__(self, pop_size: int, weights_array: list,knapsack_size:float ,values, alpha: float = 1, beta: float = 1, evap_val: float = 0.15):\n",
    "        # First we set our constants:\n",
    "        self.pop_size = pop_size            # Number of our ants\n",
    "        self.alpha = alpha\n",
    "        self.beta = beta                    # Metahuristic parameters\n",
    "        self.evap_val = evap_val            # Evaporation parameter\n",
    "        self.weights_array = weights_array   \n",
    "        self.weights_array_size = len(weights_array)\n",
    "        self.knapsack_size=knapsack_size\n",
    "        self.max_fitness = 1\n",
    "        self.best_ans = 0\n",
    "        self.best_ans_array = 0\n",
    "        self.values = values\n",
    "                   \n",
    "        # Then we set our variable Arrays:\n",
    "        self.population = None\n",
    "        self.pheromone_array = [ 0.01 for idx in range(self.weights_array_size)]\n",
    "        self.fitness_arr     = [0 for i in range(self.pop_size)]\n",
    "\n",
    "    def initial(self):\n",
    "\n",
    "        print(\"len : \" , self.weights_array_size)\n",
    "\n",
    "        # Set the inital population\n",
    "        self.population = [list(random.sample(range(self.weights_array_size), random.randint(1,self.weights_array_size-1))) for i in range(self.pop_size)]\n",
    "        # self.population = [self.ant_tour() for i in range(self.pop_size)]\n",
    "\n",
    "        \n",
    "\n",
    "    def fitness_function(self, ant:list[int]):\n",
    "        fitness_value = 0\n",
    "        for idx_of_obj in ant:\n",
    "            fitness_value += self.values[idx_of_obj]\n",
    "        if (self.max_fitness < fitness_value):\n",
    "            self.max_fitness = fitness_value\n",
    "            self.best_ans = fitness_value\n",
    "            self.best_ans_array = ant\n",
    "\n",
    "            print (\"fitness : \" , fitness_value , ant , [self.weights_array[i] for i in ant])\n",
    "        return fitness_value\n",
    "    \n",
    "    def evaporation_pheromone(self, pheromone, p):  # p should be less than 1\n",
    "        return (1-p)*pheromone\n",
    "\n",
    "    def evaporation_pheromone_array(self):\n",
    "        for i in range(self.weights_array_size - 1):\n",
    "            random_p = self.evap_val\n",
    "            curr_pheromone = self.evaporation_pheromone(self.pheromone_array[i], random_p)\n",
    "            self.pheromone_array[i] = curr_pheromone\n",
    "\n",
    "    def calc_pheromone_array(self, ant, func=lambda a: a):\n",
    "        delta_fitness = func(self.fitness_function(ant))\n",
    "        for idx_of_obj in ant:\n",
    "            self.pheromone_array[idx_of_obj] +=(delta_fitness/self.max_fitness)/10\n",
    "    \n",
    "    def select_next_obj(self,  neighbors):\n",
    "        indexes = []\n",
    "        weights = []\n",
    "        for obj_idx in range(self.weights_array_size):\n",
    "            if neighbors[obj_idx] == 1 :\n",
    "                indexes.append(obj_idx)\n",
    "                weights.append((self.pheromone_array[obj_idx] ** self.alpha))\n",
    "                # ( ( self.weights_array[obj_idx]) ** self.beta) \n",
    "        next_obj = random.choices(indexes, weights=weights)[0]\n",
    "        return next_obj\n",
    "\n",
    "    def ant_tour(self):\n",
    "        visited_objs = [ 1 for i in range(self.weights_array_size)]\n",
    "        tour = []\n",
    "        weight = 0\n",
    "        \n",
    "        while (sum(visited_objs) ):\n",
    "            next_obj_idx = self.select_next_obj(visited_objs)\n",
    "            weight+=self.weights_array[next_obj_idx]\n",
    "            if (weight<=self.knapsack_size):\n",
    "                tour.append(next_obj_idx)\n",
    "            else:\n",
    "                weight-=self.weights_array[next_obj_idx]\n",
    "            visited_objs[next_obj_idx] = 0\n",
    "            # print (\"sum: \", sum(visited_objs) , next_obj_idx ,\" --- \" ,self.weights_array[next_obj_idx])\n",
    "        return tour\n",
    "\n",
    "    def next_iteration(self):\n",
    "        for ant_idx in range(self.pop_size):\n",
    "            curr_ant = self.ant_tour()\n",
    "            self.population[ant_idx] = curr_ant\n",
    "            self.fitness_arr[ant_idx] = self.fitness_function(curr_ant)\n",
    "            self.calc_pheromone_array(curr_ant)\n",
    "        self.evaporation_pheromone_array()\n"
   ]
  },
  {
   "cell_type": "code",
   "execution_count": 37,
   "metadata": {},
   "outputs": [],
   "source": [
    "def max_knapsack(ant_colony: AntColony, stop_point, stop_gen=500):\n",
    "    MIN_INT = 0\n",
    "\n",
    "    set_covering = ant_colony\n",
    "    set_covering.initial()\n",
    "    set_covering.next_iteration()\n",
    "    ith_gen_arr = []\n",
    "    max_cost_iteration = []\n",
    "    best_ans = MIN_INT\n",
    "    best_ans_array = 0\n",
    "    ith_gen = 1\n",
    "    for i in range(1,1001):\n",
    "\n",
    "        if ith_gen >= stop_gen or stop_point == set_covering.best_ans:\n",
    "            break\n",
    "        set_covering.next_iteration()\n",
    "        ith_gen_arr.append(i)\n",
    "        max_cost_iteration.append(set_covering.best_ans )\n",
    "\n",
    "    print(\"the best answer is : \",set_covering.best_ans , set_covering.best_ans_array)\n",
    "\n",
    "    import matplotlib.pyplot as plt\n",
    "    plt.plot(ith_gen_arr, max_cost_iteration)\n",
    "    plt.xlabel(\"ith generation\")\n",
    "    plt.ylabel(\"max value\")\n",
    "\n",
    "    plt.show()\n",
    "    \n"
   ]
  },
  {
   "cell_type": "code",
   "execution_count": 38,
   "metadata": {},
   "outputs": [],
   "source": [
    "n_item = 50\n",
    "weights = [80, 82, 85, 70, 72, 70, \n",
    "66, 50, 55, 25, 50, 55, 40, 48, 50, 32, 22, 60, 30, 32, 40, 38, 35, \n",
    "32, 25, 28, 30, 22, 50, 30, 45, 30, 60, 50, 20, 65, 20, 25, 30, 10, \n",
    "20, 25, 15, 10, 10, 10, 4, 4, 2, 1]\n",
    "values = [220, 208, 198, 192, 180, 180, 165, 162, 160, 158, 155, \n",
    "130, 125, 122, 120, 118, 115, 110, 105, 101, 100, 100, 98, 96, \n",
    "95, 90, 88, 82, 80, 77, 75, 73, 72, 70, 69, 66, 65, 63, 60, 58, 56, \n",
    "50, 30, 20, 15, 10, 8, 5, 3, 1]\n",
    "capacity = 1000"
   ]
  },
  {
   "cell_type": "code",
   "execution_count": 39,
   "metadata": {},
   "outputs": [
    {
     "name": "stdout",
     "output_type": "stream",
     "text": [
      "len :  50\n",
      "fitness :  2616 [41, 22, 39, 27, 37, 28, 6, 0, 17, 8, 4, 19, 44, 15, 36, 9, 34, 31, 25, 42, 10, 35, 11, 5, 29, 45, 47, 46] [25, 35, 10, 22, 25, 50, 66, 80, 60, 55, 72, 32, 10, 32, 20, 25, 20, 30, 28, 15, 50, 65, 55, 70, 30, 10, 4, 4]\n",
      "fitness :  2642 [11, 41, 34, 36, 22, 45, 19, 31, 39, 4, 49, 5, 10, 17, 6, 42, 27, 35, 37, 8, 24, 28, 46, 9, 48, 29, 43, 0, 47, 44, 16] [55, 25, 20, 20, 35, 10, 32, 30, 10, 72, 1, 70, 50, 60, 66, 15, 22, 65, 25, 55, 25, 50, 4, 25, 2, 30, 10, 80, 4, 10, 22]\n",
      "fitness :  2651 [5, 34, 0, 44, 43, 6, 11, 49, 37, 25, 17, 46, 22, 15, 39, 28, 47, 41, 45, 9, 35, 42, 8, 31, 48, 36, 27, 29, 19, 24, 10, 23] [70, 20, 80, 10, 10, 66, 55, 1, 25, 28, 60, 4, 35, 32, 10, 50, 4, 25, 10, 25, 65, 15, 55, 30, 2, 20, 22, 30, 32, 25, 50, 32]\n",
      "fitness :  2704 [28, 35, 0, 5, 42, 8, 27, 47, 31, 48, 43, 46, 37, 34, 39, 41, 15, 23, 17, 19, 11, 25, 36, 9, 4, 49, 45, 22, 10, 24, 16, 44] [50, 65, 80, 70, 15, 55, 22, 4, 30, 2, 10, 4, 25, 20, 10, 25, 32, 32, 60, 32, 55, 28, 20, 25, 72, 1, 10, 35, 50, 25, 22, 10]\n",
      "fitness :  2783 [44, 36, 17, 37, 39, 45, 10, 25, 49, 8, 16, 23, 15, 28, 24, 47, 22, 9, 46, 43, 48, 42, 31, 4, 38, 0, 19, 11, 41, 6, 29, 34, 18] [10, 20, 60, 25, 10, 10, 50, 28, 1, 55, 22, 32, 32, 50, 25, 4, 35, 25, 4, 10, 2, 15, 30, 72, 30, 80, 32, 55, 25, 66, 30, 20, 30]\n",
      "fitness :  2829 [29, 39, 49, 31, 8, 47, 42, 22, 36, 43, 41, 37, 16, 9, 48, 11, 38, 34, 35, 23, 26, 0, 46, 24, 5, 45, 10, 6, 15, 25, 19, 44, 27, 18] [30, 10, 1, 30, 55, 4, 15, 35, 20, 10, 25, 25, 22, 25, 2, 55, 30, 20, 65, 32, 30, 80, 4, 25, 70, 10, 50, 66, 32, 28, 32, 10, 22, 30]\n",
      "fitness :  2865 [17, 48, 44, 46, 4, 6, 25, 45, 39, 23, 41, 0, 36, 47, 27, 29, 49, 24, 34, 43, 15, 26, 11, 8, 18, 5, 9, 31, 37, 42, 19, 12, 16] [60, 2, 10, 4, 72, 66, 28, 10, 10, 32, 25, 80, 20, 4, 22, 30, 1, 25, 20, 10, 32, 30, 55, 55, 30, 70, 25, 30, 25, 15, 32, 40, 22]\n",
      "fitness :  2883 [31, 29, 11, 48, 49, 26, 15, 47, 36, 10, 22, 38, 16, 45, 6, 40, 39, 24, 42, 12, 17, 25, 0, 23, 19, 34, 46, 27, 3, 4, 41, 9] [30, 30, 55, 2, 1, 30, 32, 4, 20, 50, 35, 30, 22, 10, 66, 20, 10, 25, 15, 40, 60, 28, 80, 32, 32, 20, 4, 22, 70, 72, 25, 25]\n",
      "fitness :  2903 [38, 49, 16, 40, 10, 3, 0, 5, 9, 43, 39, 22, 8, 46, 24, 11, 34, 17, 48, 19, 47, 27, 6, 25, 31, 18, 37, 42, 15, 23, 29, 45] [30, 1, 22, 20, 50, 70, 80, 70, 25, 10, 10, 35, 55, 4, 25, 55, 20, 60, 2, 32, 4, 22, 66, 28, 30, 30, 25, 15, 32, 32, 30, 10]\n",
      "fitness :  2906 [5, 25, 49, 16, 47, 36, 40, 12, 14, 3, 41, 22, 38, 23, 11, 15, 6, 8, 28, 48, 0, 10, 9, 24, 18, 27, 39, 44, 19, 46] [70, 28, 1, 22, 4, 20, 20, 40, 50, 70, 25, 35, 30, 32, 55, 32, 66, 55, 50, 2, 80, 50, 25, 25, 30, 22, 10, 10, 32, 4]\n",
      "fitness :  2909 [42, 26, 39, 28, 46, 10, 24, 19, 34, 18, 22, 23, 41, 44, 9, 27, 21, 49, 12, 43, 36, 15, 25, 0, 3, 11, 48, 5, 31, 40, 45, 38, 16, 37] [15, 30, 10, 50, 4, 50, 25, 32, 20, 30, 35, 32, 25, 10, 25, 22, 38, 1, 40, 10, 20, 32, 28, 80, 70, 55, 2, 70, 30, 20, 10, 30, 22, 25]\n",
      "fitness :  2931 [49, 11, 45, 9, 42, 47, 39, 41, 37, 48, 24, 29, 43, 15, 22, 25, 10, 3, 23, 27, 16, 36, 34, 18, 5, 46, 4, 31, 19, 26, 0, 12, 44, 40] [1, 55, 10, 25, 15, 4, 10, 25, 25, 2, 25, 30, 10, 32, 35, 28, 50, 70, 32, 22, 22, 20, 20, 30, 70, 4, 72, 30, 32, 30, 80, 40, 10, 20]\n",
      "fitness :  2940 [27, 9, 49, 10, 36, 25, 46, 5, 23, 31, 4, 44, 22, 18, 48, 16, 12, 47, 21, 29, 3, 11, 38, 19, 42, 34, 15, 0, 45, 24, 40, 39, 41, 43] [22, 25, 1, 50, 20, 28, 4, 70, 32, 30, 72, 10, 35, 30, 2, 22, 40, 4, 38, 30, 70, 55, 30, 32, 15, 20, 32, 80, 10, 25, 20, 10, 25, 10]\n",
      "fitness :  2953 [42, 24, 49, 16, 46, 12, 15, 48, 29, 47, 22, 19, 3, 43, 18, 39, 5, 26, 21, 23, 38, 25, 11, 9, 27, 31, 36, 45, 34, 44, 41, 40, 10, 6, 8] [15, 25, 1, 22, 4, 40, 32, 2, 30, 4, 35, 32, 70, 10, 30, 10, 70, 30, 38, 32, 30, 28, 55, 25, 22, 30, 20, 10, 20, 10, 25, 20, 50, 66, 55]\n",
      "fitness :  2981 [49, 44, 42, 37, 5, 41, 40, 14, 29, 22, 48, 31, 47, 4, 0, 18, 36, 9, 27, 10, 24, 34, 43, 25, 21, 19, 15, 12, 39, 45, 16, 23, 26, 8] [1, 10, 15, 25, 70, 25, 20, 50, 30, 35, 2, 30, 4, 72, 80, 30, 20, 25, 22, 50, 25, 20, 10, 28, 38, 32, 32, 40, 10, 10, 22, 32, 30, 55]\n",
      "fitness :  3004 [49, 34, 5, 39, 37, 36, 9, 6, 18, 42, 29, 31, 0, 10, 44, 24, 26, 25, 43, 40, 22, 8, 12, 19, 16, 4, 41, 3, 27, 15] [1, 20, 70, 10, 25, 20, 25, 66, 30, 15, 30, 30, 80, 50, 10, 25, 30, 28, 10, 20, 35, 55, 40, 32, 22, 72, 25, 70, 22, 32]\n",
      "the best answer is :  3004 [49, 34, 5, 39, 37, 36, 9, 6, 18, 42, 29, 31, 0, 10, 44, 24, 26, 25, 43, 40, 22, 8, 12, 19, 16, 4, 41, 3, 27, 15]\n"
     ]
    },
    {
     "data": {
      "image/png": "[encoded data removed]",
      "text/plain": [
       "<Figure size 640x480 with 1 Axes>"
      ]
     },
     "metadata": {},
     "output_type": "display_data"
    }
   ],
   "source": [
    "import matplotlib.pyplot as plt\n",
    "test = AntColony(pop_size=10, weights_array=weights , values = values , knapsack_size=capacity ,alpha=1,beta=1/2,evap_val=0.2)\n",
    "max_knapsack(test, stop_point=capacity, stop_gen=350)\n",
    "\n"
   ]
  },
  {
   "cell_type": "code",
   "execution_count": 40,
   "metadata": {},
   "outputs": [],
   "source": [
    "n_item = 20\n",
    "weights = [92, 4, 43, 83, 84, 68, 92, \n",
    "82, 6, 44, 32, 18, 56, 83, 25, 96, 70, 48, 14, 58]\n",
    "values = [44, 46, 90, \n",
    "72, 91, 40, 75, 35, 8, 54, 78, 40, 77, 15, 61, 17, 75, 29, 75, 63]\n",
    "capacity = 878"
   ]
  },
  {
   "cell_type": "code",
   "execution_count": 41,
   "metadata": {},
   "outputs": [
    {
     "name": "stdout",
     "output_type": "stream",
     "text": [
      "len :  20\n",
      "fitness :  892 [12, 10, 14, 2, 15, 5, 17, 9, 7, 18, 8, 3, 6, 0, 4, 1] [56, 32, 25, 43, 96, 68, 48, 44, 82, 14, 6, 83, 92, 92, 84, 4]\n",
      "fitness :  960 [5, 3, 10, 8, 15, 9, 6, 17, 19, 4, 18, 14, 12, 2, 1, 0, 11] [68, 83, 32, 6, 96, 44, 92, 48, 58, 84, 14, 25, 56, 43, 4, 92, 18]\n",
      "fitness :  977 [5, 11, 1, 19, 13, 14, 3, 12, 16, 15, 8, 10, 18, 6, 9, 2, 4] [68, 18, 4, 58, 83, 25, 83, 56, 70, 96, 6, 32, 14, 92, 44, 43, 84]\n",
      "fitness :  995 [7, 14, 12, 13, 1, 5, 19, 18, 11, 8, 10, 16, 4, 2, 9, 3, 6] [82, 25, 56, 83, 4, 68, 58, 14, 18, 6, 32, 70, 84, 43, 44, 83, 92]\n",
      "fitness :  1024 [19, 10, 5, 8, 0, 2, 4, 6, 16, 9, 14, 3, 7, 12, 18, 1, 11] [58, 32, 68, 6, 92, 43, 84, 92, 70, 44, 25, 83, 82, 56, 14, 4, 18]\n",
      "the best answer is :  1024 [19, 10, 5, 8, 0, 2, 4, 6, 16, 9, 14, 3, 7, 12, 18, 1, 11]\n"
     ]
    },
    {
     "data": {
      "image/png": "[encoded data removed]",
      "text/plain": [
       "<Figure size 640x480 with 1 Axes>"
      ]
     },
     "metadata": {},
     "output_type": "display_data"
    }
   ],
   "source": [
    "import matplotlib.pyplot as plt\n",
    "test = AntColony(pop_size=10, weights_array=weights , values = values , knapsack_size=capacity ,alpha=1,beta=1/2,evap_val=0.2)\n",
    "max_knapsack(test, stop_point=capacity, stop_gen=350)\n"
   ]
  },
  {
   "cell_type": "code",
   "execution_count": null,
   "metadata": {},
   "outputs": [],
   "source": []
  }
 ],
 "metadata": {
  "kernelspec": {
   "display_name": "Python 3",
   "language": "python",
   "name": "python3"
  },
  "language_info": {
   "codemirror_mode": {
    "name": "ipython",
    "version": 3
   },
   "file_extension": ".py",
   "mimetype": "text/x-python",
   "name": "python",
   "nbconvert_exporter": "python",
   "pygments_lexer": "ipython3",
   "version": "3.9.6"
  },
  "orig_nbformat": 4
 },
 "nbformat": 4,
 "nbformat_minor": 2
}
