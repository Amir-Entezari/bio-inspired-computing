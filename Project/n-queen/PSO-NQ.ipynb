{
 "cells": [
  {
   "attachments": {},
   "cell_type": "markdown",
   "metadata": {},
   "source": [
    "### پیاده سازی الگوریتم PSO برای حداکثرسازی تابع\n",
    "\n",
    "در ابتدا برای سرعت بیشتر از کتابخانه نامپای استفاده میکنم\n",
    "\n",
    "برای حداکثر سازی این معادله با استفاده از الگوریتم \n",
    "PSO\n",
    "دو کلاس \n",
    "Bird \n",
    "و \n",
    "swarm\n",
    "را تعریف میکنم\n"
   ]
  },
  {
   "attachments": {},
   "cell_type": "markdown",
   "metadata": {},
   "source": [
    "### مراحل الگوریتم PSO\n",
    "\n",
    "\n",
    "1. جمعیت پرندگان را با موقعیت ها و سرعت های تصادفی اولیه کنید.\n",
    "2. تناسب هر پرنده را با محاسبه مقدار تابع در موقعیت فعلی آن ارزیابی کنید.\n",
    "3. در صورت بهبود تناسب اندام، بهترین راه حل شخصی را برای هر پرنده به روز کنید.\n",
    "4. به روز رسانی بهترین راه حل جهانی برای کل جمعیت بر اساس تناسب اندام همه پرندگان.\n",
    "5. سرعت و موقعیت هر پرنده را با استفاده از معادلات PSO به روز کنید.\n",
    "6. مراحل 2-5 را تکرار کنید تا زمانی که یک معیار توقف، مانند حداکثر تعداد تکرارها یا سطح مطلوب تناسب اندام برآورده شود.\n",
    "7. در هر تکرار، در صورتی که بهترین راه حل جهانی بهبود یابد، بهترین راه حلی که تاکنون پیدا شده است را به روز کنید.\n",
    "8. چاپ جهانی و بهترین راه حل های یافت شده توسط الگوریتم PSO.\n",
    "\n",
    "\n",
    "\n"
   ]
  },
  {
   "cell_type": "code",
   "execution_count": 2,
   "metadata": {},
   "outputs": [],
   "source": [
    "from mpmath import mp\n",
    "import math\n",
    "import numpy as np\n",
    "import matplotlib.pyplot as plt\n",
    "import numpy as np\n",
    "import random"
   ]
  },
  {
   "attachments": {},
   "cell_type": "markdown",
   "metadata": {},
   "source": [
    "### تعاریف کلاس\n",
    "\n",
    "#### کلاس پرندگان (Bird)\n",
    "\n",
    "کلاس \n",
    "Bird\n",
    "  که پرنده (ذره)در این الگوریتم نشان میدهد  که شامل اتربیوت های زیر است\n",
    "\n",
    "- position: یک آرایه که موقعیت پرنده را در فضای جستجو نشان می دهد.\n",
    "- speed(v): یک آرایه ناتوان که نشان دهنده سرعت پرنده است.\n",
    "- w: پارامتر وزن اینرسی الگوریتم .\n",
    "- c1: پارامتر شناختی الگوریتم .\n",
    "- c2: پارامتر اجتماعی الگوریتم .\n",
    "- globalSolutions : بهترین جواب هایی که توسط کل جمعیت پیدا میشود\n",
    "- fitness: ارزش هر پرنده\n",
    "- bestFitness: بهترین فیتنسی که پرنده داشته\n",
    "- bestPosition: بهترین موقعیت پینده با توجه به فیتنس\n",
    "- fitnessFunction():تابع فیتنس \n",
    "- movementBird(): تابع حرکت\n",
    "\n",
    "\n",
    "\n"
   ]
  },
  {
   "attachments": {},
   "cell_type": "markdown",
   "metadata": {},
   "source": [
    "#### fitnessFunction\n",
    "این تابع فیتنس پرنده را بر اساس مقدار آن در معادله گفته شده بدست میاورد"
   ]
  },
  {
   "attachments": {},
   "cell_type": "markdown",
   "metadata": {},
   "source": [
    "#### movmentBird\n",
    "اول اینرسی پرنده را با استفاده از سرعت پرنده در اینرسی پیدا میکند سپس مقدار باقی مانده ان را بر ده بدست میاوریم تا از بی ثباتی عددی جلوگیری کنیم و مقدار اینرسی از حدی بیشتر نشود\n",
    "\n",
    "سپس بردار های گلوبال بست و پرسونال بست محاسبه میشوند و در عدد رندون بین صفر و یک و مقدار سی ۱ و سی ۲ ضرب میشن\n",
    "\n",
    "بعد سرعت جدید پرنده از رو این سه متغیر محاسبه میشود (جمعشون) \n",
    "\n",
    "حال موقعیت پرنده را بررسی میکنیم تا در محدوده جست و جو جواب باشد اگر اینطور نبود مقدار آن را بین -۱۰ تا ۱۰ برمیگردانیم(برای هر دو بردار آن )\n",
    "\n",
    "البته قبلش پوزیشن پرنده هم بر اساس سرعت جدید اپدیت میکنیم بعد میبینیم داخل باندی که داریم باشه\n",
    "\n",
    "بعدم بهترین هاشو اپدیت میکنیم"
   ]
  },
  {
   "cell_type": "code",
   "execution_count": 3,
   "metadata": {},
   "outputs": [],
   "source": [
    "class Bird:\n",
    "    def __init__(self,queenNumber,speed , wInersi , c1, c2 ,globalsSolution, boundX=[-10 , 10] , boundY =[-10,10]):\n",
    "        self.position = np.array(random.sample(list(range(queenNumber)),queenNumber))\n",
    "        self.wInersi=wInersi\n",
    "        self.c1=c1\n",
    "        self.c2=c2\n",
    "        self.queenNumber=queenNumber\n",
    "        self.globalsSolution=globalsSolution\n",
    "        self.speed = np.array(speed)\n",
    "        self.fitness = self.fitnessFunction()\n",
    "        self.bestFitness = self.fitness\n",
    "        self.bestPosition = self.position\n",
    "        self.boundX = boundX\n",
    "        self.boundY = boundY\n",
    "        \n",
    "    def fitnessFunction(self):\n",
    "        tempFitness = 0\n",
    "        for i in range (self.queenNumber):\n",
    "            for j in range (i+1 , self.queenNumber):\n",
    "                if (abs(math.floor(self.position[i]) - math.floor(self.position[j])) == abs(i - j)):\n",
    "                    tempFitness +=1\n",
    "                if (abs(math.floor(self.position[i]) == math.floor(self.position[j]))):\n",
    "                    tempFitness +=1\n",
    "        return tempFitness\n",
    "    \n",
    "    def movementBird(self):\n",
    "        inersi = self.wInersi*(self.speed%10)\n",
    "        personal_best = self.c1*(np.random.rand()+0.5)*(self.bestPosition-self.position)\n",
    "        global_best = self.c2*(np.random.rand()+0.5)*(self.globalsSolution[1]-self.position)\n",
    "        \n",
    "        v2 = inersi+personal_best+global_best\n",
    "        self.position = self.position+v2\n",
    "        self.speed = v2\n",
    "        \n",
    "   \n",
    "        for i in range(len(self.position)):\n",
    "            self.position[i]%=self.queenNumber\n",
    "\n",
    "        self.position = np.array(self.position)\n",
    "\n",
    "        self.fitness = self.fitnessFunction()\n",
    "        if(self.fitness<self.bestFitness):\n",
    "            self.bestFitness = self.fitness\n",
    "            self.bestPosition = self.position\n",
    "        \n",
    "        if(self.fitness<=self.globalsSolution[0]):\n",
    "            self.globalsSolution[0] = self.fitness\n",
    "            self.globalsSolution[1] = self.position\n",
    "\n",
    "            \n",
    "        \n",
    "        return\n",
    "    \n"
   ]
  },
  {
   "cell_type": "markdown",
   "metadata": {},
   "source": []
  },
  {
   "attachments": {},
   "cell_type": "markdown",
   "metadata": {},
   "source": [
    "\n",
    "#### کلاس Swarm\n",
    "\n",
    "این کلاس مجموعه همه پرنده هارو نشون میده و اتربیوت های مهمشو میگم :\n",
    "\n",
    "- Birds : میشه همه پرنده هایی که داریم\n",
    "- bestSolutions : همون بست سلوشنیه که بالا گفتم\n",
    "- bestAns: بهترین جوابی که پیدا میکنیم \n",
    "\n",
    "- itrantions: تعداد ایتریشن هامون\n",
    "\n",
    "- genItrantions(): تو این تابع با استفاده از نکست ایتریشن میایم ایتریشن جدید رو میسازیم\n",
    "- prnt(): بهترین جواب رو چاپ میکنیم\n",
    "- printPlot(): دلات رو ترسیم میکنیم\n",
    "\n"
   ]
  },
  {
   "cell_type": "code",
   "execution_count": 4,
   "metadata": {},
   "outputs": [],
   "source": [
    "class swarm:\n",
    "    Birds=[]\n",
    "    globalsSolution = [0,[]]\n",
    "    bestAns = [0,[]]\n",
    "    x=[]\n",
    "    y=[]\n",
    "    def __init__ (self , queenNumber,populationSize , wInersi , c1, c2,itrantions = 20 ) : \n",
    "        self.globalsSolution = [queenNumber * queenNumber,[0*queenNumber]]\n",
    "        self.bestAns = [queenNumber * queenNumber,[0*queenNumber]]\n",
    "        sampleBird = Bird(queenNumber,[np.random.choice([-1,1])*np.random.rand()*10 for _ in range(queenNumber)], wInersi , c1, c2 , self.globalsSolution)\n",
    "        self.globalsSolution[0] = sampleBird.bestFitness\n",
    "        self.globalsSolution[1] = sampleBird.bestPosition\n",
    "        self.queenNumber=queenNumber\n",
    "        self.itrantions = itrantions\n",
    "        self.i = itrantions\n",
    "        self.x=[]\n",
    "        self.y=[]\n",
    "        for _ in range(populationSize):\n",
    "            v = [np.random.choice([-1,1])*np.random.rand()*10 for _ in range(queenNumber)]\n",
    "            self.Birds+=[Bird(queenNumber,v ,wInersi , c1, c2 ,self.globalsSolution)]\n",
    "\n",
    "    def nextItration (self  ): \n",
    "        for sampleBird in self.Birds:\n",
    "            sampleBird.movementBird()    \n",
    "\n",
    "    def genItrantions (self):\n",
    "        for i in range(self.itrantions):\n",
    "            # print(\"best position : \", self.globalsSolution[0] ,self.globalsSolution[1])\n",
    "\n",
    "            self.nextItration()\n",
    "            if (self.globalsSolution[0]< self.bestAns[0]):\n",
    "                self.bestAns[0] = self.globalsSolution[0]\n",
    "                self.bestAns[1] = self.globalsSolution[1].copy()\n",
    "                print(f'new best answer in iteration {i} is : {self.globalsSolution[0]} with coordinates : {list(map(math.floor,self.globalsSolution[1]))} ')\n",
    "            self.i =i+1\n",
    "            self.x.append(i)\n",
    "            self.y.append(self.globalsSolution[0])\n",
    "            if (self.bestAns[0] == 0 ):\n",
    "                break\n",
    "        \n",
    "\n",
    "    def prnt(self):\n",
    "        print(f'the best answer in { self.i  } itrations is : {self.bestAns[0]}  {list(map(math.floor,self.bestAns[1]))} ')\n",
    "\n",
    "    def printPlot(self):\n",
    "        import matplotlib.pyplot as plt\n",
    "        plt.plot(self.x, self.y)\n",
    "        plt.xlabel(\"ith generation\")\n",
    "        plt.ylabel(\"min conflicts\")\n",
    "\n",
    "        plt.show()\n",
    "\n",
    "        "
   ]
  },
  {
   "attachments": {},
   "cell_type": "markdown",
   "metadata": {},
   "source": []
  },
  {
   "cell_type": "code",
   "execution_count": 5,
   "metadata": {},
   "outputs": [
    {
     "name": "stdout",
     "output_type": "stream",
     "text": [
      "new best answer in iteration 0 is : 5 with coordinates : [5, 5, 6, 3, 0, 4, 4, 7] \n",
      "new best answer in iteration 1 is : 4 with coordinates : [4, 0, 0, 3, 5, 5, 2, 6] \n",
      "new best answer in iteration 4 is : 3 with coordinates : [3, 0, 4, 5, 1, 1, 7, 2] \n",
      "new best answer in iteration 79 is : 2 with coordinates : [1, 6, 2, 7, 7, 0, 3, 6] \n",
      "new best answer in iteration 319 is : 1 with coordinates : [5, 1, 6, 0, 7, 1, 4, 2] \n",
      "new best answer in iteration 974 is : 0 with coordinates : [3, 7, 0, 4, 6, 1, 5, 2] \n",
      "the best answer in 975 itrations is : 0  [3, 7, 0, 4, 6, 1, 5, 2] \n"
     ]
    },
    {
     "data": {
      "image/png": "[encoded data removed]",
      "text/plain": [
       "<Figure size 640x480 with 1 Axes>"
      ]
     },
     "metadata": {},
     "output_type": "display_data"
    }
   ],
   "source": [
    "w = 0.05\n",
    "c1 = 10\n",
    "c2 = 10\n",
    "populationSize = 20\n",
    "mp.dps=20\n",
    "\n",
    "test = swarm(8,populationSize,w , c1, c2 , itrantions = 10000)\n",
    "test.genItrantions()\n",
    "test.prnt()\n",
    "test.printPlot()"
   ]
  },
  {
   "cell_type": "code",
   "execution_count": 27,
   "metadata": {},
   "outputs": [
    {
     "name": "stdout",
     "output_type": "stream",
     "text": [
      "new best answer in iteration 0 is : 12 with coordinates : [4, 19, 1, 18, 17, 6, 0, 8, 11, 10, 7, 9, 2, 13, 14, 16, 15, 12, 5, 3] \n",
      "new best answer in iteration 37 is : 11 with coordinates : [9, 2, 0, 3, 1, 10, 12, 17, 12, 1, 17, 5, 14, 16, 9, 4, 13, 18, 11, 0] \n",
      "new best answer in iteration 178 is : 10 with coordinates : [17, 1, 5, 16, 6, 19, 5, 2, 1, 7, 18, 3, 8, 14, 4, 15, 19, 12, 12, 6] \n",
      "the best answer in 1000 itrations is : 10  [17, 1, 5, 16, 6, 19, 5, 2, 1, 7, 18, 3, 8, 14, 4, 15, 19, 12, 12, 6] \n"
     ]
    },
    {
     "data": {
      "image/png": "[encoded data removed]",
      "text/plain": [
       "<Figure size 640x480 with 1 Axes>"
      ]
     },
     "metadata": {},
     "output_type": "display_data"
    }
   ],
   "source": [
    "w = 0.05\n",
    "c1 = 10\n",
    "c2 = 10\n",
    "populationSize = 10\n",
    "mp.dps=20\n",
    "\n",
    "test2 = swarm(20,populationSize,w , c1, c2 , itrantions = 1000)\n",
    "test2.genItrantions()\n",
    "test2.prnt()\n",
    "test2.printPlot()"
   ]
  }
 ],
 "metadata": {
  "kernelspec": {
   "display_name": "Python 3",
   "language": "python",
   "name": "python3"
  },
  "language_info": {
   "codemirror_mode": {
    "name": "ipython",
    "version": 3
   },
   "file_extension": ".py",
   "mimetype": "text/x-python",
   "name": "python",
   "nbconvert_exporter": "python",
   "pygments_lexer": "ipython3",
   "version": "3.9.6"
  },
  "orig_nbformat": 4
 },
 "nbformat": 4,
 "nbformat_minor": 2
}
