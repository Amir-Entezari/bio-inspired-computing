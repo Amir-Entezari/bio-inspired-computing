{
  "cells": [
    {
      "attachments": {},
      "cell_type": "markdown",
      "metadata": {
        "id": "TuAJFaiT5bnr"
      },
      "source": [
        "# TSP problem using genetic algorithm"
      ]
    },
    {
      "attachments": {},
      "cell_type": "markdown",
      "metadata": {
        "id": "5pJx_0G35bnt"
      },
      "source": [
        "# هدف کلی\n",
        "هدف این کد پایتون پیاده سازی یک راه حل برای مسئله فروشنده دوره گرد (TSP) با استفاده از یک الگوریتم ژنتیک است. TSP یک مسئله بهینه‌سازی کلاسیک است که در آن هدف یافتن کوتاه‌ترین مسیر ممکن است که هر یک از مجموعه‌ای از شهرها را دقیقاً یک بار بازدید می‌کند و سپس به شهر شروع باز می‌گردد.\n",
        "\n",
        "\n"
      ]
    },
    {
      "cell_type": "markdown",
      "metadata": {
        "id": "Pfg1w4G35bnu"
      },
      "source": [
        "## ابتدا کتابخانه هایی که نیاز داریم را ایمپورت میکنیم و ورودی را از کاربر میگیریم\n",
        "\n"
      ]
    },
    {
      "cell_type": "code",
      "execution_count": 162,
      "metadata": {
        "id": "7lmJ3RJ_gsMt"
      },
      "outputs": [],
      "source": [
        "import random\n",
        "import numpy as np\n",
        "import time\n",
        "from math import sqrt"
      ]
    },
    {
      "attachments": {},
      "cell_type": "markdown",
      "metadata": {
        "id": "79vX8t8kRHR6"
      },
      "source": [
        "# حال توابع کلاس های مورد نظر را تعریف میکنیم\n",
        "\n",
        "\n",
        "کلاس کلی مسإله همانند مسيله چند وزیر است. اما یک سری توابع در اینحا متناسب با نیاز های ما تغییر یافته اند.به طور مثال، کوروموزوم در این مسئله یک آرایه بهو طول تعداد شهر ها است که اعصای این ارایه بین ۰ تا تعداد شهرها می باشند و به این معناست که به ترتیب کداام شهر ها را طی میکنیم.  در این مسئله تابع ارزش بدین صورت تعریف میشود که روی کروموزوم یک حلقه میزنیم و فاصله عنصر i ام با i+1 را با یکدیگر جمع کرده و در نهایت برمیگردانیم. به عبارت دیگر تابع ارزش در این مسئله، مجموع فواصل اقلیدسی است.\n",
        "همچنین دو تابع calc_distance، برای محاسبه مسیر بین دو شهر، و تابع calc_distance_matrix برای محاسبه فواصل تمام شهر ها در ابتدای کلاس تعریف شده اند.\n",
        "همچنین از آنجا که نوع این سوال خارپشتی می باشد، باید پویش را درآن بیشتر کنیم هرچند نیاز نیست انتفاع را خیلی کاهش دهیم. اینکار را با افزایش جهش در تولید نسل بعدی انجام میدهیم. به طوری که یک متود جدید به تابع mutation به نام permutation اضافه کردیم که برخلاف متود قبلی که تعدادی ژن انتخاب میکرد و آن ها را SWAP میکرد، اینجا یه زیرمجموعه از کوروموزم انتخاب میکنیم و آن زیرمجموعه را جایگشت میدهیم."
      ]
    },
    {
      "cell_type": "code",
      "execution_count": 163,
      "metadata": {
        "id": "67aipn9Hg8JP"
      },
      "outputs": [],
      "source": [
        "MAX_INT = 2147483647\n",
        "class geneticAlgorithm:\n",
        "    def __init__(self, pop_size, n_city, coordinates,mutation_prob=0.8):\n",
        "        #Initial values\n",
        "        self.n_city = n_city\n",
        "        self.coordinates = coordinates # ex: [ (1,1), (1,4), (4,4), (4,1) ]\n",
        "        self.distance_matrix = [\n",
        "            [MAX_INT for i in range(n_city)] for j in range(n_city)]\n",
        "        self.path = []\n",
        "\n",
        "        self.pop_size = pop_size\n",
        "        self.population = [np.array(random.sample(range(self.n_city), self.n_city)) for i in range(pop_size)]\n",
        "        self.ith_generation = 0\n",
        "\n",
        "        self.fitness_arr = [0 for i in range(self.pop_size)]\n",
        "\n",
        "        self.mutation_prob = mutation_prob\n",
        "        #Initial functions\n",
        "        self.calc_distance_matrix()\n",
        "        self.fitness_array_function()\n",
        "\n",
        "    def calc_distance(self,city_A,city_B):\n",
        "        return sqrt( (city_A[0] - city_B[0])**2\n",
        "                    + (city_A[1] - city_B[1])**2 )\n",
        "\n",
        "    def calc_distance_matrix(self):\n",
        "        for i in range(self.n_city):\n",
        "            for j in range(self.n_city):\n",
        "                self.distance_matrix[i][j] = self.calc_distance(self.coordinates[i],self.coordinates[j])\n",
        "\n",
        "    def sort_pop_by_fitness(self):\n",
        "        n = self.pop_size\n",
        "        swapped = False\n",
        "        for i in range(n):\n",
        "            for j in range(0, n-i-1):\n",
        "                if self.fitness_arr[j] > self.fitness_arr[j + 1]:\n",
        "                    swapped = True\n",
        "                    self.fitness_arr[j], self.fitness_arr[j +\n",
        "                                                          1] = self.fitness_arr[j + 1], self.fitness_arr[j]\n",
        "                    self.population[j], self.population[j +\n",
        "                                                        1] = self.population[j + 1], self.population[j]\n",
        "            if not swapped:\n",
        "                return\n",
        "\n",
        "    def fitness_function(self, chromosome):\n",
        "        fitness_value = 0\n",
        "        for i in range(self.n_city-1):\n",
        "            # print(chromosome[i], chromosome[i+1])\n",
        "            fitness_value += self.distance_matrix[ chromosome[i] ][ chromosome[i+1] ]\n",
        "        fitness_value += self.distance_matrix[ chromosome[self.n_city-1] ][ chromosome[0] ]\n",
        "\n",
        "        return fitness_value\n",
        "\n",
        "    def fitness_array_function(self):\n",
        "        for ind in range(self.pop_size):\n",
        "            current_fitness = self.fitness_function(self.population[ind])\n",
        "            self.fitness_arr[ind] = current_fitness\n",
        "            # if current_fitness == 1:\n",
        "            #     return True\n",
        "        # self.fitness_arr.sort(reverse=True)\n",
        "        return self.fitness_arr\n",
        "\n",
        "    def crossover(self, chromosome_A, chromosome_B):\n",
        "        n = len(chromosome_A)\n",
        "        # Choose two random crossover points\n",
        "        point1 = random.randint(0, n-2)\n",
        "        point2 = random.randint(point1+1, n-1)\n",
        "        # Create two empty child arrays\n",
        "        child1 = [None]*n\n",
        "        child2 = [None]*n\n",
        "\n",
        "        child1[point1:point2] = chromosome_A[point1:point2]\n",
        "        child2[point1:point2] = chromosome_B[point1:point2]\n",
        "\n",
        "        for i in range(n):\n",
        "            if child1[i] == None:\n",
        "                if chromosome_B[i] not in child1:\n",
        "                    child1[i] = chromosome_B[i]\n",
        "            if child2[i] == None:\n",
        "                if chromosome_A[i] not in child2:\n",
        "                    child2[i] = chromosome_A[i]\n",
        "\n",
        "        # Copy genetic material from parents to children\n",
        "\n",
        "        # Fill in remaining genetic material using the other parent\n",
        "        for i in range(n):\n",
        "            if child1[i] == None:\n",
        "                for j in range(n):\n",
        "                    if j not in child1:\n",
        "                        child1[i] = j\n",
        "            if child2[i] == None:\n",
        "                for j in range(n):\n",
        "                    if j not in child2:\n",
        "                        child2[i] = j\n",
        "\n",
        "        child1_fitness = self.fitness_function(child1)\n",
        "        child2_fitness = self.fitness_function(child2)\n",
        "        if child1_fitness < child2_fitness:\n",
        "            return child1\n",
        "        return child2\n",
        "\n",
        "    def mutation(self, chromosome, mutation_prob, method='swap'):\n",
        "        n = self.n_city\n",
        "        if method == 'swap':\n",
        "            if random.random() < mutation_prob:\n",
        "                number_of_mutation = random.randint(0, int(0.4*self.n_city))\n",
        "                for _ in range(number_of_mutation):\n",
        "                    index1 = random.randint(0, self.n_city-1)\n",
        "                    index2 = random.randint(0, self.n_city-1)\n",
        "\n",
        "                    temp = chromosome\n",
        "                    temp[index1], temp[index2] = temp[index2], temp[index1]\n",
        "                    # if self.fitness_function(temp)>self.fitness_function(chromosome):\n",
        "                    chromosome=temp\n",
        "            return chromosome\n",
        "        elif method == 'permutation':\n",
        "            index1 = random.randint(0, n-2)\n",
        "            # index2 = index1+random.randint(0, min([n/2, n-index1]))\n",
        "            index2 = random.randint(index1+1, n-1)\n",
        "            permuted = chromosome[index1:index2]\n",
        "            np.random.shuffle(permuted)\n",
        "            return  chromosome[0:index1]+ permuted+ chromosome[index2:]\n",
        "\n",
        "\n",
        "    def select(self, method='tournoment'):\n",
        "        if method == 'tournoment':\n",
        "            # random_population_index = np.array(random.sample(range(self.pop_size),self.pop_size))\n",
        "\n",
        "            new_generation = []\n",
        "            for i in range(0, self.pop_size):\n",
        "                random_candidates = np.array(\n",
        "                    random.sample(range(self.pop_size), 20))\n",
        "\n",
        "                min_index1 = min(random_candidates,\n",
        "                                 key=lambda j: self.fitness_arr[j])\n",
        "                first_parent = (\n",
        "                    min_index1, self.population[min_index1], self.fitness_arr[min_index1])\n",
        "\n",
        "                # min_index2, second_parent=-1,-1\n",
        "                # while (min_index2!=min_index1):\n",
        "                random_candidates = np.array(\n",
        "                    random.sample(range(self.pop_size), 5))\n",
        "                min_index2 = min(random_candidates,\n",
        "                                 key=lambda j: self.fitness_arr[j])\n",
        "                second_parent = (\n",
        "                    min_index2, self.population[min_index2], self.fitness_arr[min_index2])\n",
        "\n",
        "                new_child = self.crossover(first_parent[1], second_parent[1])\n",
        "\n",
        "                new_child = self.mutation(new_child, self.mutation_prob,method='permutation')\n",
        "                new_generation.append(new_child)\n",
        "\n",
        "            new_generation.sort(key=lambda item: self.fitness_function(item))\n",
        "            self.sort_pop_by_fitness()\n",
        "            # self.population[0:len(new_generation)-1]=new_generation\n",
        "\n",
        "            new_gen_len = len(new_generation)\n",
        "            # self.population[self.pop_size - 1: self.pop_size - 1-len(new_generation)-1] = new_generation\n",
        "\n",
        "            for index in range(new_gen_len-1,-1,-1):\n",
        "                if self.fitness_function(new_generation[index]) < self.fitness_arr[self.pop_size-1-new_gen_len-1+index]:\n",
        "                    self.population[index] = new_generation[index]\n",
        "            self.sort_pop_by_fitness()\n",
        "            # self.population=np.concatenate(( new_generation, self.population[self.pop_size-len(new_generation)+1:]), axis=0)\n",
        "            # self.population = self.population[0:self.pop_size-len(new_generation)] + new_generation\n",
        "            self.fitness_arr = self.fitness_array_function()\n",
        "\n",
        "        elif method == 'ranked':\n",
        "            new_generation = []\n",
        "            self.sort_pop_by_fitness()\n",
        "            self.fitness_arr = self.fitness_array_function()\n",
        "            for i in range(self.pop_size-1):\n",
        "                first_parent = self.population[i]\n",
        "                second_parent = self.population[i+1]\n",
        "\n",
        "                new_child = self.crossover(first_parent, second_parent)\n",
        "                mutation_prob = random.random()\n",
        "                new_child = self.mutation(new_child, mutation_prob)\n",
        "                new_generation.append(new_child)\n",
        "\n",
        "                self.population[0:len(new_generation)-1] = new_generation\n",
        "\n",
        "            self.fitness_arr = self.fitness_array_function()\n",
        "        self.ith_generation+=1\n",
        "\n",
        "    def build_path(self):\n",
        "        self.sort_pop_by_fitness()\n",
        "        arr = self.population[0]\n",
        "        self.path = [[0 for i in range(len(arr))] for j in range(len(arr))]\n",
        "        for i in range(0,self.n_city-1):\n",
        "            self.path[arr[i]][arr[i+1]] = i+1\n",
        "\n",
        "    def print_path(self):\n",
        "        for i in range(self.n_city):\n",
        "            for j in range(self.n_city):\n",
        "                print(self.path[i][j], end='  ')\n",
        "            print('\\n')\n"
      ]
    },
    {
      "cell_type": "code",
      "execution_count": 164,
      "metadata": {
        "colab": {
          "base_uri": "https://localhost:8080/"
        },
        "id": "cpzYhou3G2lM",
        "outputId": "53de468d-73e1-4289-e461-3c4a81dab624"
      },
      "outputs": [
        {
          "name": "stdout",
          "output_type": "stream",
          "text": [
            "(68.58, 33.0)(64.34, 40.3)(59.55, 30.1)(59.25, 24.4)(56.57, 24.0)(54.43, 20.3)(54.41, 25.1)(53.54, 27.3)(49.5, 24.0)(50.26, 30.3)(46.28, 30.4)(55.45, 37.3)(56.2, 44.0)(55.45, 49.0)(53.12, 50.0)(51.4, 39.1)(50.0, 36.1)(48.27, 34.5)(44.36, 33.3)(47.14, 39.4)(48.44, 44.2)(46.21, 48.0)(41.43, 44.4)(40.11, 44.3)(40.23, 49.5)(58.0, 56.1)(56.51, 60.3)(67.27, 63.5)(69.2, 88.0)(55.0, 73.2)(55.02, 82.5)(56.01, 92.5)(49.5, 73.1)(43.15, 76.5)(41.2, 69.1)(39.4, 66.4)(38.35, 68.4)(43.48, 87.3)(52.16, 104.2)(47.55, 106.5)(52.03, 113.3)(62.13, 129.4)(64.45, 177.2)(53.01, 158.3)(59.34, 150.4)(50.17, 127.3)(50.35, 137.0)(48.27, 135.0)(46.58, 142.4)(43.1, 131.5)(41.01, 28.5)(38.25, 27.0)(39.56, 32.5)(38.43, 35.3)(39.45, 37.0)(39.55, 41.1)(37.55, 40.1)(37.01, 35.1)(36.12, 37.1)(34.44, 36.4)(33.3, 36.1)(33.53, 35.3)(31.57, 35.5)(32.5, 35.0)(32.04, 34.4)(31.46, 35.1)(24.28, 39.3)(21.3, 39.1)(21.27, 39.4)(15.23, 44.1)(14.48, 42.5)(12.45, 45.1)(14.32, 49.0)(23.37, 58.3)(25.18, 55.1)(25.17, 51.3)(26.13, 50.3)(24.38, 46.4)(29.2, 47.5)(30.3, 47.4)(33.21, 44.2)(35.28, 44.2)(36.2, 43.0)(38.05, 46.1)(37.16, 49.3)(35.4, 51.2)(34.19, 47.0)(30.2, 48.1)(32.4, 51.3)(29.36, 52.3)(30.17, 57.0)(36.18, 59.3)(34.2, 62.1)(31.32, 65.3)(34.31, 69.1)(33.36, 73.0)(31.35, 74.1)(31.25, 73.0)(30.11, 71.2)(30.12, 67.0)(27.42, 68.5)(25.22, 68.2)(24.52, 67.0)(30.19, 78.0)(28.4, 77.1)(26.17, 73.0)(26.55, 75.4)(26.28, 80.2)(25.2, 83.0)(25.36, 85.0)(22.32, 88.2)(23.02, 72.3)(21.09, 79.0)(20.3, 85.5)(18.58, 72.5)(17.23, 78.2)(17.42, 83.1)(15.21, 75.1)(12.59, 77.3)(13.05, 80.1)(10.49, 78.4)(9.56, 78.0)(6.56, 79.5)(27.43, 85.1)(27.28, 89.3)(23.43, 90.2)(22.2, 91.5)(22.0, 96.0)(16.47, 96.1)(18.47, 98.5)(19.52, 102.0)(17.58, 102.3)(21.02, 105.5)(16.28, 107.3)(16.04, 108.1)(10.45, 106.4)(11.33, 104.5)(13.45, 100.3)(5.25, 100.2)(3.1, 101.4)(1.17, 103.5)(3.35, 98.4)(-0.57, 100.2)(-2.55, 104.4)(-6.1, 106.4)(-6.54, 107.3)(-7.48, 110.2)(-7.15, 112.4)(-8.39, 115.1)(-10.1, 123.3)(-3.2, 114.3)(1.33, 110.2)(4.56, 114.5)(-0.3, 117.0)(-5.07, 119.2)(1.29, 124.5)(-3.43, 128.1)(-5.4, 132.4)(7.04, 125.3)(10.18, 123.5)(10.42, 122.3)(14.35, 121.0)(22.17, 114.0)(22.38, 120.1)(25.03, 121.3)(29.4, 91.0)(36.03, 103.4)(34.15, 108.5)(30.39, 104.0)(29.39, 106.3)(25.05, 102.4)(23.06, 113.1)(26.06, 119.1)(30.36, 114.1)(32.03, 118.4)(31.14, 121.2)(34.48, 113.3)(36.06, 120.1)(37.55, 112.3)(39.08, 117.1)(39.55, 116.2)(38.53, 121.3)(41.48, 123.2)(45.45, 126.4)(39.01, 125.4)(37.33, 126.5)(35.06, 129.0)(43.03, 141.2)(39.43, 140.0)(38.15, 140.5)(35.42, 139.4)(35.1, 136.5)(36.34, 136.3)(35.0, 135.4)(34.4, 135.3)(34.24, 132.2)(32.48, 129.5)(31.36, 130.3)(26.13, 127.4)(13.28, 144.4)(-2.32, 140.4)(-4.12, 152.1)(-9.3, 147.1)(-12.28, 130.5)(-31.56, 115.5)(-34.55, 138.3)(-37.49, 144.5)(-42.53, 147.1)(-33.52, 151.1)(-27.28, 153.0)(-19.16, 146.4)(-23.42, 133.5)(-45.52, 170.3)(-43.32, 172.3)(-41.18, 174.4)(-36.52, 174.4)(-21.08, -175.1)(-14.16, -170.4)(-18.08, 178.2)(-22.16, 166.2)(-9.26, 159.5)(-0.32, 166.5)(11.35, 165.2)(21.19, -157.5)(1.52, -157.2)(-9.45, -139.0)(-17.32, -149.3)(-25.04, -130.0)(-27.07, -109.2)"
          ]
        }
      ],
      "source": [
        "test_case_file = open(\"gr229.txt\", \"r\")\n",
        "Lines = test_case_file.readlines()\n",
        "coords=[]\n",
        "for line in Lines:\n",
        "    city = (list(line.split(' '))[2:])\n",
        "    coords.append( ( float(city[0]) , float(city[1][:-2]) ) )\n",
        "for i in coords:\n",
        "    print(str(i),end='')"
      ]
    },
    {
      "cell_type": "code",
      "execution_count": 165,
      "metadata": {},
      "outputs": [],
      "source": [
        "def min_tsp(pop, n, coordinates_set,stop_point):\n",
        "    ith_gen_arr = []\n",
        "    min_distance = []\n",
        "\n",
        "    tsp = geneticAlgorithm(pop, n, coordinates_set, mutation_prob=0.8)\n",
        "    ith_gen_arr.append(tsp.ith_generation)\n",
        "    min_distance.append(min(tsp.fitness_arr))\n",
        "\n",
        "    while (min_distance[tsp.ith_generation] > stop_point):\n",
        "        tsp.select()\n",
        "        ith_gen_arr.append(tsp.ith_generation)\n",
        "        min_distance.append(min(tsp.fitness_arr))\n",
        "\n",
        "    tsp.build_path()\n",
        "    for i in tsp.population[0]:\n",
        "        print(str(coords[i]), end='')\n",
        "    print(\n",
        "        f\"\\n{n}-city TSP problem solved in generation {ith_gen_arr[-1]}th with population of{pop}\")\n",
        "    print(f\"best fitness(minimum distance) is: { min_distance[-1]}\")  \n",
        "    print('----------------------------------------')\n",
        "    return (ith_gen_arr, min_distance)\n"
      ]
    },
    {
      "cell_type": "code",
      "execution_count": 166,
      "metadata": {},
      "outputs": [
        {
          "name": "stdout",
          "output_type": "stream",
          "text": [
            "(-27.07, -109.2)(-25.04, -130.0)(-9.45, -139.0)(-17.32, -149.3)(1.52, -157.2)(-21.08, -175.1)(-14.16, -170.4)(21.19, -157.5)(11.35, 165.2)(-0.32, 166.5)(-18.08, 178.2)(-22.16, 166.2)(-9.3, 147.1)(-36.52, 174.4)(-41.18, 174.4)(-43.32, 172.3)(-45.52, 170.3)(-33.52, 151.1)(-23.42, 133.5)(-34.55, 138.3)(-37.49, 144.5)(-42.53, 147.1)(-27.28, 153.0)(-19.16, 146.4)(-4.12, 152.1)(-12.28, 130.5)(-31.56, 115.5)(-9.26, 159.5)(-2.32, 140.4)(13.28, 144.4)(34.4, 135.3)(34.24, 132.2)(26.13, 127.4)(31.14, 121.2)(39.43, 140.0)(35.42, 139.4)(38.15, 140.5)(35.1, 136.5)(35.06, 129.0)(37.33, 126.5)(41.48, 123.2)(45.45, 126.4)(32.48, 129.5)(36.06, 120.1)(38.53, 121.3)(37.55, 112.3)(32.03, 118.4)(30.36, 114.1)(14.35, 121.0)(22.17, 114.0)(23.06, 113.1)(22.38, 120.1)(25.05, 102.4)(30.39, 104.0)(39.08, 117.1)(29.4, 91.0)(6.56, 79.5)(5.25, 100.2)(-8.39, 115.1)(10.18, 123.5)(7.04, 125.3)(11.33, 104.5)(22.0, 96.0)(15.21, 75.1)(21.09, 79.0)(23.43, 90.2)(27.28, 89.3)(27.43, 85.1)(30.19, 78.0)(26.17, 73.0)(28.4, 77.1)(33.36, 73.0)(30.11, 71.2)(31.32, 65.3)(24.52, 67.0)(23.02, 72.3)(30.12, 67.0)(31.35, 74.1)(31.25, 73.0)(32.4, 51.3)(30.2, 48.1)(26.13, 50.3)(25.18, 55.1)(30.3, 47.4)(29.2, 47.5)(12.45, 45.1)(15.23, 44.1)(33.3, 36.1)(33.53, 35.3)(31.57, 35.5)(21.27, 39.4)(21.3, 39.1)(36.12, 37.1)(37.01, 35.1)(33.21, 44.2)(18.58, 72.5)(26.55, 75.4)(34.2, 62.1)(36.18, 59.3)(30.17, 57.0)(29.36, 52.3)(38.43, 35.3)(48.27, 34.5)(39.55, 41.1)(39.4, 66.4)(26.06, 119.1)(43.1, 131.5)(50.35, 137.0)(53.01, 158.3)(64.45, 177.2)(46.58, 142.4)(62.13, 129.4)(47.55, 106.5)(36.03, 103.4)(52.16, 104.2)(69.2, 88.0)(43.48, 87.3)(22.2, 91.5)(-5.07, 119.2)(31.36, 130.3)(35.0, 135.4)(36.34, 136.3)(43.03, 141.2)(39.55, 116.2)(34.48, 113.3)(29.39, 106.3)(34.15, 108.5)(39.01, 125.4)(25.03, 121.3)(1.29, 124.5)(-3.43, 128.1)(4.56, 114.5)(-0.3, 117.0)(-7.15, 112.4)(-10.1, 123.3)(-5.4, 132.4)(1.33, 110.2)(-7.48, 110.2)(-0.57, 100.2)(13.45, 100.3)(10.45, 106.4)(10.42, 122.3)(-3.2, 114.3)(-6.54, 107.3)(-6.1, 106.4)(-2.55, 104.4)(1.17, 103.5)(3.1, 101.4)(3.35, 98.4)(16.47, 96.1)(16.28, 107.3)(16.04, 108.1)(21.02, 105.5)(17.58, 102.3)(19.52, 102.0)(18.47, 98.5)(17.42, 83.1)(20.3, 85.5)(25.2, 83.0)(27.42, 68.5)(12.59, 77.3)(9.56, 78.0)(13.05, 80.1)(10.49, 78.4)(17.23, 78.2)(26.28, 80.2)(22.32, 88.2)(25.36, 85.0)(34.31, 69.1)(25.22, 68.2)(40.23, 49.5)(37.16, 49.3)(38.05, 46.1)(34.19, 47.0)(35.4, 51.2)(25.17, 51.3)(24.38, 46.4)(14.48, 42.5)(14.32, 49.0)(23.37, 58.3)(35.28, 44.2)(24.28, 39.3)(34.44, 36.4)(36.2, 43.0)(53.12, 50.0)(40.11, 44.3)(39.45, 37.0)(31.46, 35.1)(32.04, 34.4)(32.5, 35.0)(39.56, 32.5)(41.01, 28.5)(38.25, 27.0)(37.55, 40.1)(55.02, 82.5)(50.17, 127.3)(59.34, 150.4)(48.27, 135.0)(52.03, 113.3)(56.01, 92.5)(49.5, 73.1)(43.15, 76.5)(41.2, 69.1)(38.35, 68.4)(55.0, 73.2)(67.27, 63.5)(56.51, 60.3)(58.0, 56.1)(55.45, 49.0)(48.44, 44.2)(46.21, 48.0)(41.43, 44.4)(47.14, 39.4)(44.36, 33.3)(50.26, 30.3)(50.0, 36.1)(51.4, 39.1)(56.2, 44.0)(55.45, 37.3)(64.34, 40.3)(68.58, 33.0)(59.55, 30.1)(54.41, 25.1)(53.54, 27.3)(46.28, 30.4)(49.5, 24.0)(54.43, 20.3)(56.57, 24.0)(59.25, 24.4)\n",
            "229-city TSP problem solved in generation 200th with population of500\n",
            "best fitness(minimum distance) is: 2800\n",
            "----------------------------------------\n"
          ]
        }
      ],
      "source": [
        "x, y = min_tsp(500, len(coords), coords, stop_point=2800)"
      ]
    },
    {
      "attachments": {},
      "cell_type": "markdown",
      "metadata": {
        "id": "6azgbnfT5bn5"
      },
      "source": [
        "به طور خلاصه، ایده حل مسئله TSP با استفاده از یک الگوریتم ژنتیک این است که یک جمعیت اولیه از افراد ایجاد کنیم که راه‌حل‌های ممکن برای مسئله را نشان می‌دهند، فیتنس آن‌ها را بر اساس میزان برآورده کردن محدودیت‌های مسئله ارزیابی می‌کنند، مناسب‌ترین را انتخاب می‌کنند. افراد برای انتخاب شدن به عنوان والدین برای نسل بعدی، از عملگرهای ژنتیکی مانند متقاطع و جهش برای ایجاد فرزندان جدید استفاده می کنند، فیتنس آنها را ارزیابی می کنند و این روند را برای چندین نسل تکرار می کنند تا زمانی که راه حل رضایت بخشی پیدا شود."
      ]
    },
    {
      "cell_type": "code",
      "execution_count": 167,
      "metadata": {
        "id": "QplPIoqT5bn5"
      },
      "outputs": [
        {
          "data": {
            "image/png": "[encoded data removed]",
            "text/plain": [
              "<Figure size 640x480 with 1 Axes>"
            ]
          },
          "metadata": {},
          "output_type": "display_data"
        }
      ],
      "source": [
        "import matplotlib.pyplot as plt\n",
        "\n",
        "plt.plot(x, y)\n",
        "plt.xlabel(\"ith generation\")\n",
        "plt.ylabel(\"min distance\")\n",
        "\n",
        "plt.show()\n"
      ]
    },
    {
      "attachments": {},
      "cell_type": "markdown",
      "metadata": {
        "id": "jpykFxZx5bn6"
      },
      "source": [
        "مشاهده میکنیم که هر چه در نسل های بعدی پیش میرویم، تابع به صورت لگاریتمی، میشود، یعنی مشتق تابع نزولی است و تغییرات بین دو نسل به مرور کمتر می شود."
      ]
    },
    {
      "cell_type": "code",
      "execution_count": 168,
      "metadata": {},
      "outputs": [
        {
          "name": "stdout",
          "output_type": "stream",
          "text": [
            "[(1150.0, 400.0), (1050.0, 275.0), (1150.0, 225.0), (1250.0, 205.0), (1350.0, 235.0), (1050.0, 155.0), (3350.0, 170.0), (3450.0, 145.0), (3550.0, 160.0), (3950.0, 170.0), (4050.0, 200.0), (4050.0, 215.0), (4250.0, 165.0), (4150.0, 150.0), (4450.0, 145.0), (4400.0, 170.0), (4600.0, 185.0), (4900.0, 155.0), (5100.0, 155.0), (5350.0, 145.0), (4950.0, 170.0), (4850.0, 190.0), (4900.0, 205.0), (5000.0, 215.0), (5100.0, 205.0), (5400.0, 205.0), (5750.0, 200.0), (5900.0, 205.0), (5600.0, 225.0), (5400.0, 230.0), (5250.0, 225.0), (5000.0, 235.0), (5000.0, 255.0), (5050.0, 280.0), (5250.0, 275.0), (5450.0, 275.0), (5400.0, 295.0), (5200.0, 315.0), (5050.0, 310.0), (4950.0, 330.0), (5100.0, 360.0), (5200.0, 365.0), (5350.0, 375.0), (5450.0, 375.0), (5600.0, 375.0), (5600.0, 425.0), (5450.0, 425.0), (5350.0, 415.0), (5050.0, 380.0), (4950.0, 350.0), (4700.0, 350.0), (4400.0, 370.0), (4450.0, 350.0), (4100.0, 350.0), (4150.0, 330.0), (4100.0, 315.0), (4300.0, 330.0), (4500.0, 315.0), (4500.0, 295.0), (4700.0, 300.0), (4700.0, 280.0), (4700.0, 250.0), (4600.0, 235.0), (4550.0, 250.0), (4550.0, 280.0), (4300.0, 280.0), (4100.0, 295.0), (3700.0, 280.0), (3550.0, 280.0), (3400.0, 270.0), (3400.0, 320.0), (3700.0, 310.0), (3550.0, 330.0), (3350.0, 425.0), (3350.0, 465.0), (3250.0, 520.0), (4000.0, 505.0), (4100.0, 475.0), (3950.0, 465.0), (3950.0, 425.0), (4200.0, 415.0), (4200.0, 455.0), (4500.0, 440.0), (4700.0, 435.0), (4700.0, 475.0), (4500.0, 480.0), (4500.0, 495.0), (4350.0, 475.0), (4350.0, 490.0), (4247.0, 515.0), (4354.0, 525.0), (4247.0, 525.0), (4100.0, 525.0), (4100.0, 535.0), (4000.0, 555.0), (4199.0, 555.0), (4305.0, 555.0), (4304.0, 544.0), (4500.0, 545.0), (4500.0, 605.0), (4650.0, 600.0), (4800.0, 610.0), (5050.0, 605.0), (5150.0, 615.0), (5300.0, 605.0), (5400.0, 605.0), (5150.0, 550.0), (5250.0, 535.0), (5300.0, 515.0), (5650.0, 535.0), (5800.0, 535.0), (5650.0, 550.0), (5800.0, 550.0), (5750.0, 570.0), (5750.0, 585.0), (5700.0, 600.0), (5700.0, 615.0), (5550.0, 600.0), (5550.0, 615.0), (6000.0, 660.0), (6000.0, 700.0), (5550.0, 665.0), (5400.0, 655.0), (5300.0, 645.0), (5150.0, 655.0), (5150.0, 700.0), (5050.0, 655.0), (4800.0, 650.0), (4650.0, 640.0), (4500.0, 655.0), (4250.0, 670.0), (4250.0, 635.0), (4250.0, 595.0), (4100.0, 585.0), (3950.0, 595.0), (3800.0, 595.0), (3950.0, 635.0), (3800.0, 635.0), (3250.0, 700.0), (3300.0, 745.0), (3300.0, 755.0), (3900.0, 785.0), (4250.0, 780.0), (4400.0, 775.0), (4250.0, 730.0), (4450.0, 745.0), (4650.0, 745.0), (4550.0, 765.0), (4550.0, 790.0), (4650.0, 815.0), (4400.0, 825.0), (4250.0, 825.0), (4550.0, 875.0), (4550.0, 895.0), (4250.0, 925.0), (4300.0, 945.0), (4500.0, 975.0), (4300.0, 995.0), (4300.0, 1015.0), (4100.0, 1015.0), (3900.0, 1015.0), (4200.0, 985.0), (4050.0, 970.0), (4200.0, 945.0), (4050.0, 920.0), (3900.0, 925.0), (3750.0, 950.0), (3450.0, 945.0), (3300.0, 935.0), (3300.0, 1065.0), (3450.0, 1045.0), (3750.0, 1050.0), (3600.0, 1110.0), (3750.0, 1120.0), (3750.0, 1140.0), (3600.0, 1160.0), (3900.0, 1155.0), (3900.0, 1140.0), (3900.0, 1115.0), (4100.0, 1115.0), (4300.0, 1115.0), (4600.0, 1110.0), (4600.0, 1085.0), (4550.0, 1055.0), (4500.0, 1025.0), (5600.0, 975.0), (5600.0, 1025.0), (5950.0, 1025.0), (6100.0, 1025.0), (6250.0, 1020.0), (6400.0, 1030.0), (6200.0, 1030.0), (6150.0, 1040.0), (5950.0, 1055.0), (5650.0, 1055.0), (5600.0, 1085.0), (5950.0, 1085.0), (6050.0, 1105.0), (6150.0, 1105.0), (6200.0, 1115.0), (5950.0, 1115.0), (5600.0, 1110.0), (5950.0, 1165.0), (6050.0, 1155.0), (6450.0, 1155.0), (6350.0, 1135.0), (6550.0, 1135.0), (6500.0, 1115.0), (6650.0, 1105.0), (6950.0, 1125.0), (6950.0, 1065.0), (7000.0, 1050.0), (7200.0, 1050.0), (7200.0, 1020.0), (7100.0, 1025.0), (7050.0, 1040.0), (6900.0, 1045.0), (6700.0, 1030.0), (6850.0, 1020.0), (7000.0, 1005.0), (6800.0, 995.0), (7000.0, 980.0), (7100.0, 975.0), (7300.0, 965.0), (7300.0, 935.0), (7300.0, 915.0), (7300.0, 900.0), (7000.0, 900.0), (6900.0, 900.0), (6950.0, 925.0), (6700.0, 915.0), (6800.0, 935.0), (6700.0, 965.0), (6700.0, 980.0), (6600.0, 980.0), (6500.0, 1005.0), (6400.0, 1005.0), (6200.0, 995.0), (6100.0, 1005.0), (6100.0, 980.0), (5950.0, 975.0), (6000.0, 960.0), (6150.0, 920.0), (6250.0, 895.0), (6250.0, 885.0), (6350.0, 885.0), (6150.0, 860.0), (6150.0, 850.0), (6000.0, 845.0), (6000.0, 860.0), (5550.0, 895.0), (5550.0, 875.0), (5650.0, 815.0), (5550.0, 790.0), (5550.0, 765.0), (5650.0, 745.0), (5900.0, 735.0), (5950.0, 765.0), (6000.0, 785.0), (6400.0, 835.0), (6450.0, 860.0), (6500.0, 870.0), (6500.0, 900.0), (6600.0, 900.0), (6699.0, 885.0), (6699.0, 875.0), (6805.0, 874.0), (6750.0, 860.0), (6750.0, 850.0), (6600.0, 800.0), (6900.0, 835.0), (7200.0, 800.0), (7350.0, 765.0), (7000.0, 735.0), (7100.0, 675.0), (7100.0, 660.0), (6800.0, 600.0), (6603.0, 605.0), (6498.0, 605.0), (6604.0, 595.0), (6700.0, 580.0), (6600.0, 570.0), (6550.0, 550.0), (6800.0, 550.0), (7100.0, 550.0), (7100.0, 510.0), (7350.0, 490.0), (7350.0, 475.0), (7350.0, 415.0), (7350.0, 405.0), (7350.0, 390.0), (7350.0, 380.0), (6950.0, 390.0), (6850.0, 380.0), (6850.0, 405.0), (6950.0, 415.0), (6650.0, 490.0), (6700.0, 505.0), (6700.0, 530.0), (6600.0, 520.0), (6250.0, 550.0), (6106.0, 560.0), (5999.0, 560.0), (5998.0, 550.0), (6250.0, 500.0), (6100.0, 480.0), (6000.0, 445.0), (6100.0, 440.0), (6100.0, 415.0), (6000.0, 395.0), (6000.0, 380.0), (5850.0, 375.0), (5750.0, 345.0), (5850.0, 305.0), (6000.0, 320.0), (6000.0, 330.0), (6100.0, 365.0), (6148.0, 355.0), (6148.0, 345.0), (6254.0, 355.0), (6450.0, 375.0), (6450.0, 365.0), (6450.0, 345.0), (6254.0, 320.0), (6148.0, 320.0), (6148.0, 309.0), (6450.0, 295.0), (6450.0, 280.0), (6300.0, 280.0), (6150.0, 280.0), (6000.0, 280.0), (6150.0, 230.0), (6300.0, 230.0), (6450.0, 230.0), (8100.0, 170.0), (8200.0, 145.0), (8300.0, 160.0), (8700.0, 170.0), (8800.0, 200.0), (8800.0, 215.0), (9000.0, 165.0), (8900.0, 150.0), (9200.0, 145.0), (9150.0, 170.0), (9350.0, 185.0), (9650.0, 155.0), (9850.0, 155.0), (10100.0, 145.0), (9700.0, 170.0), (9600.0, 190.0), (9650.0, 205.0), (9750.0, 215.0), (9850.0, 205.0), (10150.0, 205.0), (10500.0, 200.0), (10650.0, 205.0), (10350.0, 225.0), (10150.0, 230.0), (10000.0, 225.0), (9750.0, 235.0), (9750.0, 255.0), (9800.0, 280.0), (10000.0, 275.0), (10200.0, 275.0), (10150.0, 295.0), (9950.0, 315.0), (9800.0, 310.0), (9700.0, 330.0), (9850.0, 360.0), (9950.0, 365.0), (10100.0, 375.0), (10200.0, 375.0), (10350.0, 375.0), (10350.0, 425.0), (10200.0, 425.0), (10100.0, 415.0), (9800.0, 380.0), (9700.0, 350.0), (9450.0, 350.0), (9150.0, 370.0), (9200.0, 350.0), (8850.0, 350.0), (8900.0, 330.0), (8850.0, 315.0), (9050.0, 330.0), (9250.0, 315.0), (9250.0, 295.0), (9450.0, 300.0), (9450.0, 280.0), (9450.0, 250.0), (9350.0, 235.0), (9300.0, 250.0), (9300.0, 280.0), (9050.0, 280.0), (8850.0, 295.0), (8450.0, 280.0), (8300.0, 280.0), (8150.0, 270.0), (8150.0, 320.0), (8450.0, 310.0), (8300.0, 330.0), (8100.0, 425.0), (8100.0, 465.0), (8000.0, 520.0), (8750.0, 505.0), (8850.0, 475.0), (8700.0, 465.0), (8700.0, 425.0), (8950.0, 415.0), (8950.0, 455.0), (9250.0, 440.0), (9450.0, 435.0), (9450.0, 475.0), (9250.0, 480.0), (9250.0, 495.0), (9100.0, 475.0), (9100.0, 490.0), (8997.0, 515.0), (9104.0, 525.0), (8997.0, 525.0), (8850.0, 525.0), (8850.0, 535.0), (8750.0, 555.0), (8949.0, 555.0), (9055.0, 555.0), (9054.0, 544.0), (9250.0, 545.0), (9250.0, 605.0), (9400.0, 600.0), (9550.0, 610.0), (9800.0, 605.0), (9900.0, 615.0), (10050.0, 605.0), (10150.0, 605.0), (9900.0, 550.0), (10000.0, 535.0), (10050.0, 515.0), (10400.0, 535.0), (10550.0, 535.0), (10400.0, 550.0), (10550.0, 550.0), (10500.0, 570.0), (10500.0, 585.0), (10450.0, 600.0), (10450.0, 615.0), (10300.0, 600.0), (10300.0, 615.0), (10750.0, 660.0), (10750.0, 700.0), (10300.0, 665.0), (10150.0, 655.0), (10050.0, 645.0), (9900.0, 655.0), (9900.0, 700.0), (9800.0, 655.0), (9550.0, 650.0), (9400.0, 640.0), (9250.0, 655.0), (9000.0, 670.0), (9000.0, 635.0), (9000.0, 595.0), (8850.0, 585.0), (8700.0, 595.0), (8550.0, 595.0), (8700.0, 635.0), (8550.0, 635.0), (8000.0, 700.0), (8050.0, 745.0), (8050.0, 755.0), (8650.0, 785.0), (9000.0, 780.0), (9150.0, 775.0), (9000.0, 730.0), (9200.0, 745.0), (9400.0, 745.0), (9300.0, 765.0), (9300.0, 790.0), (9400.0, 815.0), (9150.0, 825.0), (9000.0, 825.0), (9300.0, 875.0), (9300.0, 895.0), (9000.0, 925.0), (9050.0, 945.0), (9250.0, 975.0), (9050.0, 995.0), (9050.0, 1015.0), (8850.0, 1015.0), (8650.0, 1015.0), (8950.0, 985.0), (8800.0, 970.0), (8950.0, 945.0), (8800.0, 920.0), (8650.0, 925.0), (8500.0, 950.0), (8200.0, 945.0), (8050.0, 935.0), (8050.0, 1065.0), (8200.0, 1045.0), (8500.0, 1050.0), (8350.0, 1110.0), (8500.0, 1120.0), (8500.0, 1140.0), (8350.0, 1160.0), (8650.0, 1155.0), (8650.0, 1140.0), (8650.0, 1115.0), (8850.0, 1115.0), (9050.0, 1115.0), (9350.0, 1110.0), (9350.0, 1085.0), (9300.0, 1055.0), (9250.0, 1025.0), (10350.0, 975.0), (10350.0, 1025.0), (10700.0, 1025.0), (10850.0, 1025.0), (11000.0, 1020.0), (11150.0, 1030.0), (10950.0, 1030.0), (10900.0, 1040.0), (10700.0, 1055.0), (10400.0, 1055.0), (10350.0, 1085.0), (10700.0, 1085.0), (10800.0, 1105.0), (10900.0, 1105.0), (10950.0, 1115.0), (10700.0, 1115.0), (10350.0, 1110.0), (10700.0, 1165.0), (10800.0, 1155.0), (11200.0, 1155.0), (11100.0, 1135.0), (11300.0, 1135.0), (11250.0, 1115.0), (11400.0, 1105.0), (11700.0, 1125.0), (11700.0, 1065.0), (11750.0, 1050.0), (11950.0, 1050.0), (11950.0, 1020.0), (11850.0, 1025.0), (11800.0, 1040.0), (11650.0, 1045.0), (11450.0, 1030.0), (11600.0, 1020.0), (11750.0, 1005.0), (11550.0, 995.0), (11750.0, 980.0), (11850.0, 975.0), (12050.0, 965.0), (12050.0, 935.0), (12050.0, 915.0), (12050.0, 900.0), (11750.0, 900.0), (11650.0, 900.0), (11700.0, 925.0), (11450.0, 915.0), (11550.0, 935.0), (11450.0, 965.0), (11450.0, 980.0), (11350.0, 980.0), (11250.0, 1005.0), (11150.0, 1005.0), (10950.0, 995.0), (10850.0, 1005.0), (10850.0, 980.0), (10700.0, 975.0), (10750.0, 960.0), (10900.0, 920.0), (11000.0, 895.0), (11000.0, 885.0), (11100.0, 885.0), (10900.0, 860.0), (10900.0, 850.0), (10750.0, 845.0), (10750.0, 860.0), (10300.0, 895.0), (10300.0, 875.0), (10400.0, 815.0), (10300.0, 790.0), (10300.0, 765.0), (10400.0, 745.0), (10650.0, 735.0), (10700.0, 765.0), (10750.0, 785.0), (11150.0, 835.0), (11200.0, 860.0), (11250.0, 870.0), (11250.0, 900.0), (11350.0, 900.0), (11449.0, 885.0), (11449.0, 875.0), (11555.0, 874.0), (11500.0, 860.0), (11500.0, 850.0), (11350.0, 800.0), (11650.0, 835.0), (11950.0, 800.0), (12100.0, 765.0), (11750.0, 735.0), (11850.0, 675.0), (11850.0, 660.0), (11550.0, 600.0), (11353.0, 605.0), (11248.0, 605.0), (11354.0, 595.0), (11450.0, 580.0), (11350.0, 570.0), (11300.0, 550.0), (11550.0, 550.0), (11850.0, 550.0), (11850.0, 510.0), (12100.0, 490.0), (12100.0, 475.0), (12100.0, 415.0), (12100.0, 405.0), (12100.0, 390.0), (12100.0, 380.0), (11700.0, 390.0), (11600.0, 380.0), (11600.0, 405.0), (11700.0, 415.0), (11400.0, 490.0), (11450.0, 505.0), (11450.0, 530.0), (11350.0, 520.0), (11000.0, 550.0), (10856.0, 560.0), (10749.0, 560.0), (10748.0, 550.0), (11000.0, 500.0), (10850.0, 480.0), (10750.0, 445.0), (10850.0, 440.0), (10850.0, 415.0), (10750.0, 395.0), (10750.0, 380.0), (10600.0, 375.0), (10500.0, 345.0), (10600.0, 305.0), (10750.0, 320.0), (10750.0, 330.0), (10850.0, 365.0), (10898.0, 355.0), (10898.0, 345.0), (11004.0, 355.0), (11200.0, 375.0), (11200.0, 365.0), (11200.0, 345.0), (11004.0, 320.0), (10898.0, 320.0), (10898.0, 309.0), (11200.0, 295.0), (11200.0, 280.0), (11050.0, 280.0), (10900.0, 280.0), (10750.0, 280.0), (10900.0, 230.0), (11050.0, 230.0), (11200.0, 230.0), (12850.0, 170.0), (12950.0, 145.0), (13050.0, 160.0), (13450.0, 170.0), (13550.0, 200.0), (13550.0, 215.0), (13750.0, 165.0), (13650.0, 150.0), (13950.0, 145.0), (13900.0, 170.0), (14100.0, 185.0), (14400.0, 155.0), (14600.0, 155.0), (14850.0, 145.0), (14450.0, 170.0), (14350.0, 190.0), (14400.0, 205.0), (14500.0, 215.0), (14600.0, 205.0), (14900.0, 205.0), (15250.0, 200.0), (15400.0, 205.0), (15100.0, 225.0), (14900.0, 230.0), (14750.0, 225.0), (14500.0, 235.0), (14500.0, 255.0), (14550.0, 280.0), (14750.0, 275.0), (14950.0, 275.0), (14900.0, 295.0), (14700.0, 315.0), (14550.0, 310.0), (14450.0, 330.0), (14600.0, 360.0), (14700.0, 365.0), (14850.0, 375.0), (14950.0, 375.0), (15100.0, 375.0), (15100.0, 425.0), (14950.0, 425.0), (14850.0, 415.0), (14550.0, 380.0), (14450.0, 350.0), (14200.0, 350.0), (13900.0, 370.0), (13950.0, 350.0), (13600.0, 350.0), (13650.0, 330.0), (13600.0, 315.0), (13800.0, 330.0), (14000.0, 315.0), (14000.0, 295.0), (14200.0, 300.0), (14200.0, 280.0), (14200.0, 250.0), (14100.0, 235.0), (14050.0, 250.0), (14050.0, 280.0), (13800.0, 280.0), (13600.0, 295.0), (13200.0, 280.0), (13050.0, 280.0), (12900.0, 270.0), (12900.0, 320.0), (13200.0, 310.0), (13050.0, 330.0), (12850.0, 425.0), (12850.0, 465.0), (12750.0, 520.0), (13500.0, 505.0), (13600.0, 475.0), (13450.0, 465.0), (13450.0, 425.0), (13700.0, 415.0), (13700.0, 455.0), (14000.0, 440.0), (14200.0, 435.0), (14200.0, 475.0), (14000.0, 480.0), (14000.0, 495.0), (13850.0, 475.0), (13850.0, 490.0), (13747.0, 515.0), (13854.0, 525.0), (13747.0, 525.0), (13600.0, 525.0), (13600.0, 535.0), (13500.0, 555.0), (13699.0, 555.0), (13805.0, 555.0), (13804.0, 544.0), (14000.0, 545.0), (14000.0, 605.0), (14150.0, 600.0), (14300.0, 610.0), (14550.0, 605.0), (14650.0, 615.0), (14800.0, 605.0), (14900.0, 605.0), (14650.0, 550.0), (14750.0, 535.0), (14800.0, 515.0), (15150.0, 535.0), (15300.0, 535.0), (15150.0, 550.0), (15300.0, 550.0), (15250.0, 570.0), (15250.0, 585.0), (15200.0, 600.0), (15200.0, 615.0), (15050.0, 600.0), (15050.0, 615.0), (15500.0, 660.0), (15500.0, 700.0), (15050.0, 665.0), (14900.0, 655.0), (14800.0, 645.0), (14650.0, 655.0), (14650.0, 700.0), (14550.0, 655.0), (14300.0, 650.0), (14150.0, 640.0), (14000.0, 655.0), (13750.0, 670.0), (13750.0, 635.0), (13750.0, 595.0), (13600.0, 585.0), (13450.0, 595.0), (13300.0, 595.0), (13450.0, 635.0), (13300.0, 635.0), (12750.0, 700.0), (12800.0, 745.0), (12800.0, 755.0), (13400.0, 785.0), (13750.0, 780.0), (13900.0, 775.0), (13750.0, 730.0), (13950.0, 745.0), (14150.0, 745.0), (14050.0, 765.0), (14050.0, 790.0), (14150.0, 815.0), (13900.0, 825.0), (13750.0, 825.0), (14050.0, 875.0), (14050.0, 895.0), (13750.0, 925.0), (13800.0, 945.0), (14000.0, 975.0), (13800.0, 995.0), (13800.0, 1015.0), (13600.0, 1015.0), (13400.0, 1015.0), (13700.0, 985.0), (13550.0, 970.0), (13700.0, 945.0), (13550.0, 920.0), (13400.0, 925.0), (13250.0, 950.0), (12950.0, 945.0), (12800.0, 935.0), (12800.0, 1065.0), (12950.0, 1045.0), (13250.0, 1050.0), (13100.0, 1110.0), (13250.0, 1120.0), (13250.0, 1140.0), (13100.0, 1160.0), (13400.0, 1155.0), (13400.0, 1140.0), (13400.0, 1115.0), (13600.0, 1115.0), (13800.0, 1115.0), (14100.0, 1110.0), (14100.0, 1085.0), (14050.0, 1055.0), (14000.0, 1025.0), (15100.0, 975.0), (15100.0, 1025.0), (15450.0, 1025.0), (15600.0, 1025.0), (15750.0, 1020.0), (15900.0, 1030.0), (15700.0, 1030.0), (15650.0, 1040.0), (15450.0, 1055.0), (15150.0, 1055.0), (15100.0, 1085.0), (15450.0, 1085.0), (15550.0, 1105.0), (15650.0, 1105.0), (15700.0, 1115.0), (15450.0, 1115.0), (15100.0, 1110.0), (15450.0, 1165.0), (15550.0, 1155.0), (15950.0, 1155.0), (15850.0, 1135.0), (16050.0, 1135.0), (16000.0, 1115.0), (16150.0, 1105.0), (16450.0, 1125.0), (16450.0, 1065.0), (16500.0, 1050.0), (16700.0, 1050.0), (16700.0, 1020.0), (16600.0, 1025.0), (16550.0, 1040.0), (16400.0, 1045.0), (16200.0, 1030.0), (16350.0, 1020.0), (16500.0, 1005.0), (16300.0, 995.0), (16500.0, 980.0), (16600.0, 975.0), (16800.0, 965.0), (16800.0, 935.0), (16800.0, 915.0), (16800.0, 900.0), (16500.0, 900.0), (16400.0, 900.0), (16450.0, 925.0), (16200.0, 915.0), (16300.0, 935.0), (16200.0, 965.0), (16200.0, 980.0), (16100.0, 980.0), (16000.0, 1005.0), (15900.0, 1005.0), (15700.0, 995.0), (15600.0, 1005.0), (15600.0, 980.0), (15450.0, 975.0), (15500.0, 960.0), (15650.0, 920.0), (15750.0, 895.0), (15750.0, 885.0), (15850.0, 885.0), (15650.0, 860.0), (15650.0, 850.0), (15500.0, 845.0), (15500.0, 860.0), (15050.0, 895.0), (15050.0, 875.0), (15150.0, 815.0), (15050.0, 790.0), (15050.0, 765.0), (15150.0, 745.0), (15400.0, 735.0), (15450.0, 765.0), (15500.0, 785.0), (15900.0, 835.0), (15950.0, 860.0), (16000.0, 870.0), (16000.0, 900.0), (16100.0, 900.0), (16199.0, 885.0), (16199.0, 875.0), (16305.0, 874.0), (16250.0, 860.0), (16250.0, 850.0), (16100.0, 800.0), (16400.0, 835.0), (16700.0, 800.0), (16850.0, 765.0), (16500.0, 735.0), (16600.0, 675.0), (16600.0, 660.0), (16300.0, 600.0), (16103.0, 605.0), (15998.0, 605.0), (16104.0, 595.0), (16200.0, 580.0), (16100.0, 570.0), (16050.0, 550.0), (16300.0, 550.0), (16600.0, 550.0), (16600.0, 510.0), (16850.0, 490.0), (16850.0, 475.0), (16850.0, 415.0), (16850.0, 405.0), (16850.0, 390.0), (16850.0, 380.0), (16450.0, 390.0), (16350.0, 380.0), (16350.0, 405.0), (16450.0, 415.0), (16150.0, 490.0), (16200.0, 505.0), (16200.0, 530.0), (16100.0, 520.0), (15750.0, 550.0), (15606.0, 560.0), (15499.0, 560.0), (15498.0, 550.0), (15750.0, 500.0), (15600.0, 480.0), (15500.0, 445.0), (15600.0, 440.0), (15600.0, 415.0), (15500.0, 395.0), (15500.0, 380.0), (15350.0, 375.0), (15250.0, 345.0), (15350.0, 305.0), (15500.0, 320.0), (15500.0, 330.0), (15600.0, 365.0), (15648.0, 355.0), (15648.0, 345.0), (15754.0, 355.0), (15950.0, 375.0), (15950.0, 365.0), (15950.0, 345.0), (15754.0, 320.0), (15648.0, 320.0), (15648.0, 309.0), (15950.0, 295.0), (15950.0, 280.0), (15800.0, 280.0), (15650.0, 280.0), (15500.0, 280.0), (15650.0, 230.0), (15800.0, 230.0), (15950.0, 230.0), (6450.0, 495.0), (11200.0, 495.0), (15950.0, 495.0), (5050.0, 575.0), (5050.0, 845.0), (5050.0, 1165.0), (9800.0, 575.0), (9800.0, 845.0), (9800.0, 1165.0), (14550.0, 575.0), (14550.0, 845.0), (14550.0, 116.0)]\n"
          ]
        }
      ],
      "source": [
        "test_case_file = open(\"pr1002.txt\", \"r\")\n",
        "Lines = test_case_file.readlines()\n",
        "coords = []\n",
        "for line in Lines:\n",
        "    city = (list(line.split(' '))[1:])\n",
        "    coords.append((float(city[0]), float(city[1][:-2])))\n",
        "print(coords)\n"
      ]
    },
    {
      "cell_type": "code",
      "execution_count": 169,
      "metadata": {},
      "outputs": [
        {
          "name": "stdout",
          "output_type": "stream",
          "text": [
            "Unexpected exception formatting exception. Falling back to standard exception\n"
          ]
        },
        {
          "name": "stderr",
          "output_type": "stream",
          "text": [
            "Traceback (most recent call last):\n",
            "  File \"/home/amir/.local/lib/python3.10/site-packages/IPython/core/interactiveshell.py\", line 3505, in run_code\n",
            "    exec(code_obj, self.user_global_ns, self.user_ns)\n",
            "  File \"/tmp/ipykernel_19489/3717972598.py\", line 1, in <module>\n",
            "    x,y = min_tsp(1500,len(coords),coords,stop_point=16000)\n",
            "  File \"/tmp/ipykernel_19489/3850709406.py\", line 10, in min_tsp\n",
            "    tsp.select()\n",
            "  File \"/tmp/ipykernel_19489/1476922648.py\", line 148, in select\n",
            "    new_child = self.crossover(first_parent[1], second_parent[1])\n",
            "  File \"/tmp/ipykernel_19489/1476922648.py\", line -1, in crossover\n",
            "KeyboardInterrupt\n",
            "\n",
            "During handling of the above exception, another exception occurred:\n",
            "\n",
            "Traceback (most recent call last):\n",
            "  File \"/home/amir/.local/lib/python3.10/site-packages/IPython/core/interactiveshell.py\", line 2102, in showtraceback\n",
            "    stb = self.InteractiveTB.structured_traceback(\n",
            "  File \"/home/amir/.local/lib/python3.10/site-packages/IPython/core/ultratb.py\", line 1310, in structured_traceback\n",
            "    return FormattedTB.structured_traceback(\n",
            "  File \"/home/amir/.local/lib/python3.10/site-packages/IPython/core/ultratb.py\", line 1199, in structured_traceback\n",
            "    return VerboseTB.structured_traceback(\n",
            "  File \"/home/amir/.local/lib/python3.10/site-packages/IPython/core/ultratb.py\", line 1052, in structured_traceback\n",
            "    formatted_exception = self.format_exception_as_a_whole(etype, evalue, etb, number_of_lines_of_context,\n",
            "  File \"/home/amir/.local/lib/python3.10/site-packages/IPython/core/ultratb.py\", line 978, in format_exception_as_a_whole\n",
            "    frames.append(self.format_record(record))\n",
            "  File \"/home/amir/.local/lib/python3.10/site-packages/IPython/core/ultratb.py\", line 878, in format_record\n",
            "    frame_info.lines, Colors, self.has_colors, lvals\n",
            "  File \"/home/amir/.local/lib/python3.10/site-packages/IPython/core/ultratb.py\", line 712, in lines\n",
            "    return self._sd.lines\n",
            "  File \"/home/amir/.local/lib/python3.10/site-packages/stack_data/utils.py\", line 144, in cached_property_wrapper\n",
            "    value = obj.__dict__[self.func.__name__] = self.func(obj)\n",
            "  File \"/home/amir/.local/lib/python3.10/site-packages/stack_data/core.py\", line 734, in lines\n",
            "    pieces = self.included_pieces\n",
            "  File \"/home/amir/.local/lib/python3.10/site-packages/stack_data/utils.py\", line 144, in cached_property_wrapper\n",
            "    value = obj.__dict__[self.func.__name__] = self.func(obj)\n",
            "  File \"/home/amir/.local/lib/python3.10/site-packages/stack_data/core.py\", line 681, in included_pieces\n",
            "    pos = scope_pieces.index(self.executing_piece)\n",
            "  File \"/home/amir/.local/lib/python3.10/site-packages/stack_data/utils.py\", line 144, in cached_property_wrapper\n",
            "    value = obj.__dict__[self.func.__name__] = self.func(obj)\n",
            "  File \"/home/amir/.local/lib/python3.10/site-packages/stack_data/core.py\", line 660, in executing_piece\n",
            "    return only(\n",
            "  File \"/home/amir/.local/lib/python3.10/site-packages/executing/executing.py\", line 190, in only\n",
            "    raise NotOneValueFound('Expected one value, found 0')\n",
            "executing.executing.NotOneValueFound: Expected one value, found 0\n"
          ]
        }
      ],
      "source": [
        "x,y = min_tsp(1500,len(coords),coords,stop_point=16000)"
      ]
    },
    {
      "cell_type": "code",
      "execution_count": 170,
      "metadata": {},
      "outputs": [
        {
          "data": {
            "image/png": "[encoded data removed]",
            "text/plain": [
              "<Figure size 640x480 with 1 Axes>"
            ]
          },
          "metadata": {},
          "output_type": "display_data"
        }
      ],
      "source": [
        "import matplotlib.pyplot as plt\n",
        "\n",
        "plt.plot(x, y)\n",
        "plt.xlabel(\"ith generation\")\n",
        "plt.ylabel(\"min distance\")\n",
        "\n",
        "plt.show()\n"
      ]
    }
  ],
  "metadata": {
    "colab": {
      "provenance": []
    },
    "kernelspec": {
      "display_name": "Python 3",
      "name": "python3"
    },
    "language_info": {
      "codemirror_mode": {
        "name": "ipython",
        "version": 3
      },
      "file_extension": ".py",
      "mimetype": "text/x-python",
      "name": "python",
      "nbconvert_exporter": "python",
      "pygments_lexer": "ipython3",
      "version": "3.10.6"
    }
  },
  "nbformat": 4,
  "nbformat_minor": 0
}
