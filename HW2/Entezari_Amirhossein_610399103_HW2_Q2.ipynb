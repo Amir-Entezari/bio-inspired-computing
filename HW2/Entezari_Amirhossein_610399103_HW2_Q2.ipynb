{
  "cells": [
    {
      "attachments": {},
      "cell_type": "markdown",
      "metadata": {},
      "source": [
        "# TSP problem using Ant Colony algorithm"
      ]
    },
    {
      "attachments": {},
      "cell_type": "markdown",
      "metadata": {},
      "source": [
        "# هدف کلی\n",
        "هدف این کد پایتون پیاده سازی یک راه حل برای مسئله فروشنده دوره گرد (TSP) با استفاده از یک الگوریتم ژنتیک است. TSP یک مسئله بهینه‌سازی کلاسیک است که در آن هدف یافتن کوتاه‌ترین مسیر ممکن است که هر یک از مجموعه‌ای از شهرها را دقیقاً یک بار بازدید می‌کند و سپس به شهر شروع باز می‌گردد.\n",
        "الگوریتم کلونی مورچگان یک الگوریتم متاهیوریستیک است که از رفتار مورچگان برای جستجوی غذا الهام گرفته شده است. کلیت این الگوریتم براساس بازخورد مثبت است بدین معنا که مسیر های بهتر(نزدیک تر) که توسط یک مورچه طی میشه، بازخورد بیشتری دریافت میکند که این بازخورد به صورت جایگذاری فورمون توسط مورچگان در مسیر انجام میشود و هرچه مسیر بهتر باشد، فورمون بیشتری در آن باقی میماند.\n",
        "این الگوریتم به طور مستقیم میتواند روی مسئله TSP پیاده سازی شود. چرا که در مسئله TSP نیز ، هدف ما یافتن کوتاه ترین مسیر است."
      ]
    },
    {
      "attachments": {},
      "cell_type": "markdown",
      "metadata": {},
      "source": [
        "# الگوریتم کلی:\n",
        "### 1- مقدار دهی اولیه\n",
        "ابتدا مختصات شهر ها را از کاربر ورودی گرفته، و سپس فواصل شهر ها را در یک ماتریس ذخیره میکنیم که هر خانه ماتریس، به طور مثال  distanc_matrix[i][j] نشان دهنده فاصله بین دو شهر i و j می باشد.\n",
        "در ابتدای الگوریتم، نیاز به تعریف یک جمعیت اولیه از مورچگان داریم. پس ابتدا به یک تعداد مشخص، آرایه تولید میکنیم که هر آرایه درواقع نماینده یک مسیر طی شده توسط یک مورچه و به عبارتی دیگر یک جواب است. \n",
        "سپس در فواصل بین شهر ها، یک مقدار ثابت اولیه، فورمون باقی میگذاریم.\n",
        "همچنین در این مرحله میتوانیم مقادیر اولیه پارامتر هایمان مانند الفا، بتا، ضریب تبخیر و.. را مقدار دهی کنیم.\n",
        "\n",
        "### ۲- پیمایش مسیر توسط مورچگان\n",
        "حال هر مورچه باید از یک شهر رندوم شروع کرده و شهر بعدی را براساس یک احتمال انتخاب کرده و در نهایت یک دور کامل بزند. ابتدا بدون کم شدن از کلیت مسئله فرض میکنیم مورچه ما از شهر صفر شروع به حرکت میکند.  سپس مورچه باید شهر بعدی را براساس یک تابع احتمال برحسب فاصله آن شهر و فورمون موجود در آن مسیر انتخاب کند. در این الگوریتم، ابتدا مورچه تمام انتخاب های ممکن خود را نگاه میکند، سپس بررسی میکند که هر شهر چه میزان فاصله و چه مقدار فورمون دارد و مقدار ۱ بر روی فاصله را به توان بتا و مقدار فورومون را به توان آلفا میرساند. حالا مورچه باهوش ما، براساس این اعداد، یک شهر را انتخاب میکند. شهری که عدد بیشتری داشته باشد، احتمال بیشتری برای انتخاب نیز دارد.\n",
        "\n",
        "### ۳- فورمون گذاری مورچه\n",
        "حال نوبت به فورمون گذاری مورچه در دوری که پیموده است میرسد.  فورومون های موجود در مسیر بین هر دو شهر، براساس تابعی از برازش مسیر پیموده شده توسط مورچه جایگذاری میشود. که این مقدار از فرمولی محاسبه میشود که بدین صورت است: فورمون قبلی و برازش دور پیموده شده. در واقع اگر مسیری کوتاه باشد، برازش بیشتری دارد و درنتیجه فورمون  بیشتری دریافت میکند.\n",
        "\n",
        "### ۴- تبخیر فورمون\n",
        "پس از آنکه همه مورچه های ما دور خود را زدند و به خانه بازگشتند، نوبت به تبخیر فورمون میرسد. در واقع در این مرحله با استفاده از ضریب تبخیر ( که من ۰.۱۵ درنظر گرفته ام) مقداری از فورمون های موجود بر روی هر مسیر، براساس مقدار رندوم که بین ۰.۱۵ و ۰.۲ است، تبخیر میشود.\n",
        "\n",
        "### ۵-تکرار الگوریتم\n",
        "حال باید الگوریتم و مراحل ۱تا۴ را آنقدر تکرار کرد تا مسیر بهینه پیدا شود. در واقع مورچه های بدبخت ما انقدر باید این مسیر را طی کنند تا براساس فورمون های بجا گذاشته خود در مسیر، بتوانند کوتاه ترین مسیر را پیدا کنند. اینکار با تابع next_iteration انجام میشود."
      ]
    },
    {
      "attachments": {},
      "cell_type": "markdown",
      "metadata": {},
      "source": [
        "## ابتدا کتابخانه هایی که نیاز داریم را ایمپورت میکنیم و ورودی را از کاربر میگیریم\n",
        "\n"
      ]
    },
    {
      "cell_type": "code",
      "execution_count": 2,
      "metadata": {
        "id": "HmQEQpdiDw0a"
      },
      "outputs": [],
      "source": [
        "import random\n",
        "import numpy as np\n",
        "import time\n",
        "from math import sqrt,ceil\n"
      ]
    },
    {
      "attachments": {},
      "cell_type": "markdown",
      "metadata": {},
      "source": [
        "# حال توابع کلاس های مورد نظر را تعریف میکنیم\n",
        "### def __init__\n",
        "حال میخواهیم الگوریتم گفته شده را توسط توابع پایتون پیاده سازی کنیم.\n",
        "یک کلاس AntColony تعریف میکنم.\n",
        "مقادیر عددی مانند تعداد مورچه ها، تعداد شهر ها، آلفا و بتا و آرایه ها و ماتریس هایمان که ثابت هستند یا حتی مانند جمعیت و ماتریس فورمون و آرایه فیتنس تغییر میکنند را نیز در اینجا مقدار دهی اولیه میکنیم.\n",
        "### def initial\n",
        "حال باید جمعیت اولیه را تولید کنیم و ارایه فیتنس متناظر آن ها را نیز حساب کنیم. دلیل تعریف تابع initial جدا این است که بتوان تاثیر مقادیر اولیه در الگوریتم را ملاحظه کرد. هرچند در این الگوریتم این موضوع تاثیر چندانی ندارد. ولی طبق عادت و تمیز نویسی کد ان را اضافه کردم.\n",
        "\n",
        "### calc_fitness_function & calc_distanc \n",
        "در اینجا تابع فیتنس را تعریف کرده ام که ۱ بر روی مجموع مسیر طی شده توسط یک مورچه است. این تابع یک ارایه که دور پیموده شده توسط مورچه است را ورودی گرفته، جمع فواصل بین شهر ها را براساس توابع calc_distance حساب کرده که فاصله اقلیدسی است. و در نهایت ۱ بر روی مجموع مسیر را برمیگرداند.\n",
        "\n",
        "### evaporation_pheromone_matrix & evaporation_pheromone\n",
        "در این دوتابع نحوه تبخیر فورمون ها معین میشود. تابع تبخیر فورمون،مقدار یک فورمون و یک عدد را که بین صفر و یک است را گرفته، و فورمون تبخیر شده را برمیگرداند. تابع تبخیر ماتریکس نیز فواصل بین هر دو شهر را براساس یک عدد رندوم و فراخوانی تابع تبخیر فورومن تبخیر میکند.هر چه این تبخیر بیشتر شود، میزان پویش نیز بیشتر میشود.\n",
        "### calc_pheromone_matrix\n",
        "در این تابع فورومون های موجود در مسیر بین هر دو شهر، براساس تابعی از برازش مسیر پیموده شده توسط مورچه جایگذاری میشود. که این مقدار از فرمولی محاسبه میشود که بدین صورت است که فورمون قبلی و برازش دور پیموده شده. در واقع اگر مسیری کوتاه باشد، برازش بیشتری دارد و درنتیجه فورمون  بیشتری دریافت میکند. همچنین تابع گفته شده را میتوان به عنوان پارامتر این تابع ورودی داد تا نحوه تاثیر برازش مسیر متفاوت شود. هر چه این تاثیر بیشتر شود، میزان انتفاع نیز بیشتر میشود.\n",
        "### select_city_probability\n",
        "این تابع در واقع هسته الگوریتم ما میباشد. در این تابع نحوه انتخاب شهر بعدی براساس فاصله و فورمون موجود روی فاصله مشخص میشود. این فورومون دقیقا براساس فرمول موجود در اسلاید ها که الفا و بتا را نیز تاثیر میدهد پیاده سازی شده است.\n",
        "این تابع یک شهر که در آن هستیم و همسایه های ان را میگیرد و شهر بعدی که باید برویم را خروجی میدهد.\n",
        "### ant_tour\n",
        "در این تابع صرفا در یک آرایه مسیری که مورچه باید بپیماید و شهر ها را براساس تابع قبل انتخاب کند نگهداری میشود و آن را برمیگرداند.\n",
        "### next_iteration \n",
        "در این تابع نیز در واقع اینطور تصور میشود که ما در ابتدای اجرای هر بار فور، در خانه هستیم و میخواهیم مسیر جدیدی را طی کنیم که اینکار با فراخوانی تابع ant_tour به تعداد مورچه ها انجام میشود.\n",
        "همچنین بعد از پیمایش هر مورچه، ماتریس فومرون ها اپدیت شده، و پس از رفت و امد کل مورچه ها، تبخیر نیز اعمال میشود.\n"
      ]
    },
    {
      "cell_type": "code",
      "execution_count": 3,
      "metadata": {
        "id": "NNtzScOoE-0v"
      },
      "outputs": [],
      "source": [
        "class AntColony:\n",
        "    def __init__(self,pop_size:int,city_size:int,coordinates,alpha=0.01,beta=50,evap_val=0.15):\n",
        "        # First we set our constants:\n",
        "        self.pop_size = pop_size\n",
        "        self.city_size = city_size   # ex: 4 cities\n",
        "        self.alpha = alpha\n",
        "        self.beta = beta\n",
        "        self.evap_val = evap_val\n",
        "        # Then we set our constant Arrays:\n",
        "        self.coordinates = coordinates # ex: [ (1,1), (1,4), (4,4), (4,1) ]\n",
        "        self.distance_matrix = [ [-1 for i in range(self.city_size)] for j in range(self.city_size) ]\n",
        "        # Then we set our variable Arrays:\n",
        "        self.population = None\n",
        "        self.pheromone_matrix = [ [2 for i in range(self.city_size)] for j in range(self.city_size) ]\n",
        "        self.fitness_arr = [-1 for i in range(self.pop_size)]\n",
        "\n",
        "    def initial(self):\n",
        "        #Calculate distances\n",
        "        self.calc_distance_matrix()\n",
        "        #Set the inital population\n",
        "        self.population = [list(random.sample(range(self.city_size), self.city_size)) for i in range(self.pop_size)]\n",
        "        #Calculate first iteration fitnesses and pheromones\n",
        "        for ant_idx in range(self.pop_size):\n",
        "            curr_ant = self.population[ant_idx]\n",
        "            self.fitness_arr[ant_idx] = self.fitness_function( curr_ant)\n",
        "        self.calc_pheromone_matrix(self.population[ant_idx])    #Can be comment\n",
        "\n",
        "\n",
        "\n",
        "    def calc_distance(self,city_A,city_B):\n",
        "        return sqrt( (city_A[0] - city_B[0])**2\n",
        "                    + (city_A[1] - city_B[1])**2 )\n",
        "\n",
        "    def calc_distance_matrix(self):\n",
        "        for i in range(self.city_size):\n",
        "            for j in range(self.city_size):\n",
        "                self.distance_matrix[i][j] = self.calc_distance(self.coordinates[i],self.coordinates[j])\n",
        "    \n",
        "    def fitness_function(self, ant):\n",
        "        fitness_value = 0\n",
        "        for i in range(self.city_size-1):\n",
        "            fitness_value += self.distance_matrix[ ant[i] ][ ant[i+1] ]\n",
        "        # Distance between Last city and First city:\n",
        "        fitness_value += self.distance_matrix[ ant[self.city_size-1] ][ ant[0] ]\n",
        "\n",
        "        return 1/fitness_value \n",
        "\n",
        "    def evaporation_pheromone(self,pheromone,p):#p should be less than 1\n",
        "        return (1-p)*pheromone\n",
        "\n",
        "    def evaporation_pheromone_matrix(self):\n",
        "        for i in range (self.city_size -1):\n",
        "            for j in range (i + 1,self.city_size):\n",
        "                random_p = random.random() * 0.2 + self.evap_val\n",
        "                curr_pheromone = self.evaporation_pheromone( self.pheromone_matrix[i][j], random_p )\n",
        "                self.pheromone_matrix[i][j] = curr_pheromone\n",
        "                self.pheromone_matrix[j][i] = curr_pheromone\n",
        "\n",
        "    def calc_pheromone_matrix(self,ant,func=lambda a:a):\n",
        "        delta_fitness = func(self.fitness_function(ant))\n",
        "        for i in range(0,self.city_size - 1):\n",
        "            self.pheromone_matrix[ant[i]][ant[i+1]] += delta_fitness\n",
        "            self.pheromone_matrix[ant[i+1]][ant[i]] += delta_fitness\n",
        "        #Distance between Last city and First city:\n",
        "        self.pheromone_matrix[ant[self.city_size - 1]][ant[0]] += delta_fitness\n",
        "        self.pheromone_matrix[ant[0]][ant[self.city_size - 1]] += delta_fitness\n",
        "\n",
        "\n",
        "    def select_city_probability(self,current_city,neighbors):\n",
        "        indexes = []\n",
        "        weights = []\n",
        "        for city_idx in range(self.city_size):\n",
        "            if neighbors[city_idx][1] == False and city_idx != current_city:\n",
        "                indexes.append(neighbors[city_idx][0])\n",
        "                weights.append((self.pheromone_matrix[current_city][city_idx] ** self.alpha)*(\n",
        "                    1 / self.distance_matrix[current_city][city_idx] ** self.beta))\n",
        "        # print(weights)\n",
        "        next_city = random.choices(indexes, weights=weights)[0]\n",
        "        return next_city\n",
        "\n",
        "    def ant_tour(self):\n",
        "        visited = [ [i,False] for i in range(self.city_size)]\n",
        "        tour = [0]\n",
        "        visited[0][1] = True\n",
        "        for i in range(self.city_size-1):\n",
        "            next_city = self.select_city_probability(tour[i],visited)\n",
        "            visited[next_city][1] = True\n",
        "            tour.append(next_city)\n",
        "        # print(tour)\n",
        "        \n",
        "        return tour\n",
        "    \n",
        "    def next_iteration(self):\n",
        "        for ant_idx in range(self.pop_size):\n",
        "            curr_ant = self.ant_tour()\n",
        "            self.population[ant_idx] = curr_ant\n",
        "            self.fitness_arr[ant_idx] = self.fitness_function( curr_ant)\n",
        "            self.calc_pheromone_matrix(curr_ant)\n",
        "        self.evaporation_pheromone_matrix()\n",
        "\n",
        "\n",
        "\n"
      ]
    },
    {
      "attachments": {},
      "cell_type": "markdown",
      "metadata": {},
      "source": [
        "## تابع کلی الگوریتم\n",
        "برای راحتی کار و قابل استفاده بودن الگوریتم، یک تابع مینویسیم که یک شی از کلاس الگوریتم ما ساخته، یک بریک پوینت و یک نسل حدی میگیرد، که الگوریتم را برای ما تا برقراری آن شرایط اجرا میکند.\n",
        "همچنین نسل ها را در یک ارایه ذخیره کرده و بهترین فاصله در آن نسل را در یک ارایه میریزیم تا در صورت خواستن کشیدن نمودار، بتوانیم از آن ها استفاده کنیم. به علاوه، بهترین جواب تا نسلی که در ان هستیم را نیز چاپ میکنیم."
      ]
    },
    {
      "cell_type": "code",
      "execution_count": null,
      "metadata": {},
      "outputs": [],
      "source": [
        "def min_tsp(ant_colony: AntColony, stop_point, stop_gen=500):\n",
        "    MAX_INT = 2*10**8\n",
        "\n",
        "    tsp = ant_colony\n",
        "    tsp.initial()\n",
        "\n",
        "    ith_gen_arr = [0]\n",
        "    min_distance_iteration = [1/max(tsp.fitness_arr)]\n",
        "    best_ans = MAX_INT\n",
        "    ith_gen = 1\n",
        "    while (1/max(tsp.fitness_arr) > stop_point) and ith_gen < stop_gen:\n",
        "        tsp.next_iteration()\n",
        "        ith_gen_arr.append(ith_gen)\n",
        "        min_distance_iteration.append(1/max(tsp.fitness_arr))\n",
        "        best_ans = best_ans if best_ans < min(\n",
        "            min_distance_iteration)else min(min_distance_iteration)\n",
        "        print(\n",
        "            f\"The minimum distance in {ith_gen}th gen is: {1/max(tsp.fitness_arr)} and or best minimum distance is: {best_ans} till now\")\n",
        "        ith_gen += 1\n",
        "\n",
        "    print('----------------------------------------')\n",
        "    print(\n",
        "        f\"\\n{tsp.city_size}-city TSP problem solved in generation {ith_gen_arr[-1]}th with population of{tsp.pop_size}. And best fitness(minimum distance) is: { best_ans}\")\n",
        "    print('----------------------------------------')\n",
        "    return (ith_gen_arr, min_distance_iteration)\n"
      ]
    },
    {
      "attachments": {},
      "cell_type": "markdown",
      "metadata": {},
      "source": [
        "# تست کیس اول\n",
        "تست کیس اول که حاوی ۲۲۹ شهر هست را از دایرکتوری که در آن قرار داریم، باز میکنیم."
      ]
    },
    {
      "cell_type": "code",
      "execution_count": 14,
      "metadata": {
        "id": "g86vHvZOvYbX"
      },
      "outputs": [
        {
          "name": "stdout",
          "output_type": "stream",
          "text": [
            "(68.58, 33.0)(64.34, 40.3)(59.55, 30.1)(59.25, 24.4)(56.57, 24.0)(54.43, 20.3)(54.41, 25.1)(53.54, 27.3)(49.5, 24.0)(50.26, 30.3)(46.28, 30.4)(55.45, 37.3)(56.2, 44.0)(55.45, 49.0)(53.12, 50.0)(51.4, 39.1)(50.0, 36.1)(48.27, 34.5)(44.36, 33.3)(47.14, 39.4)(48.44, 44.2)(46.21, 48.0)(41.43, 44.4)(40.11, 44.3)(40.23, 49.5)(58.0, 56.1)(56.51, 60.3)(67.27, 63.5)(69.2, 88.0)(55.0, 73.2)(55.02, 82.5)(56.01, 92.5)(49.5, 73.1)(43.15, 76.5)(41.2, 69.1)(39.4, 66.4)(38.35, 68.4)(43.48, 87.3)(52.16, 104.2)(47.55, 106.5)(52.03, 113.3)(62.13, 129.4)(64.45, 177.2)(53.01, 158.3)(59.34, 150.4)(50.17, 127.3)(50.35, 137.0)(48.27, 135.0)(46.58, 142.4)(43.1, 131.5)(41.01, 28.5)(38.25, 27.0)(39.56, 32.5)(38.43, 35.3)(39.45, 37.0)(39.55, 41.1)(37.55, 40.1)(37.01, 35.1)(36.12, 37.1)(34.44, 36.4)(33.3, 36.1)(33.53, 35.3)(31.57, 35.5)(32.5, 35.0)(32.04, 34.4)(31.46, 35.1)(24.28, 39.3)(21.3, 39.1)(21.27, 39.4)(15.23, 44.1)(14.48, 42.5)(12.45, 45.1)(14.32, 49.0)(23.37, 58.3)(25.18, 55.1)(25.17, 51.3)(26.13, 50.3)(24.38, 46.4)(29.2, 47.5)(30.3, 47.4)(33.21, 44.2)(35.28, 44.2)(36.2, 43.0)(38.05, 46.1)(37.16, 49.3)(35.4, 51.2)(34.19, 47.0)(30.2, 48.1)(32.4, 51.3)(29.36, 52.3)(30.17, 57.0)(36.18, 59.3)(34.2, 62.1)(31.32, 65.3)(34.31, 69.1)(33.36, 73.0)(31.35, 74.1)(31.25, 73.0)(30.11, 71.2)(30.12, 67.0)(27.42, 68.5)(25.22, 68.2)(24.52, 67.0)(30.19, 78.0)(28.4, 77.1)(26.17, 73.0)(26.55, 75.4)(26.28, 80.2)(25.2, 83.0)(25.36, 85.0)(22.32, 88.2)(23.02, 72.3)(21.09, 79.0)(20.3, 85.5)(18.58, 72.5)(17.23, 78.2)(17.42, 83.1)(15.21, 75.1)(12.59, 77.3)(13.05, 80.1)(10.49, 78.4)(9.56, 78.0)(6.56, 79.5)(27.43, 85.1)(27.28, 89.3)(23.43, 90.2)(22.2, 91.5)(22.0, 96.0)(16.47, 96.1)(18.47, 98.5)(19.52, 102.0)(17.58, 102.3)(21.02, 105.5)(16.28, 107.3)(16.04, 108.1)(10.45, 106.4)(11.33, 104.5)(13.45, 100.3)(5.25, 100.2)(3.1, 101.4)(1.17, 103.5)(3.35, 98.4)(-0.57, 100.2)(-2.55, 104.4)(-6.1, 106.4)(-6.54, 107.3)(-7.48, 110.2)(-7.15, 112.4)(-8.39, 115.1)(-10.1, 123.3)(-3.2, 114.3)(1.33, 110.2)(4.56, 114.5)(-0.3, 117.0)(-5.07, 119.2)(1.29, 124.5)(-3.43, 128.1)(-5.4, 132.4)(7.04, 125.3)(10.18, 123.5)(10.42, 122.3)(14.35, 121.0)(22.17, 114.0)(22.38, 120.1)(25.03, 121.3)(29.4, 91.0)(36.03, 103.4)(34.15, 108.5)(30.39, 104.0)(29.39, 106.3)(25.05, 102.4)(23.06, 113.1)(26.06, 119.1)(30.36, 114.1)(32.03, 118.4)(31.14, 121.2)(34.48, 113.3)(36.06, 120.1)(37.55, 112.3)(39.08, 117.1)(39.55, 116.2)(38.53, 121.3)(41.48, 123.2)(45.45, 126.4)(39.01, 125.4)(37.33, 126.5)(35.06, 129.0)(43.03, 141.2)(39.43, 140.0)(38.15, 140.5)(35.42, 139.4)(35.1, 136.5)(36.34, 136.3)(35.0, 135.4)(34.4, 135.3)(34.24, 132.2)(32.48, 129.5)(31.36, 130.3)(26.13, 127.4)(13.28, 144.4)(-2.32, 140.4)(-4.12, 152.1)(-9.3, 147.1)(-12.28, 130.5)(-31.56, 115.5)(-34.55, 138.3)(-37.49, 144.5)(-42.53, 147.1)(-33.52, 151.1)(-27.28, 153.0)(-19.16, 146.4)(-23.42, 133.5)(-45.52, 170.3)(-43.32, 172.3)(-41.18, 174.4)(-36.52, 174.4)(-21.08, -175.1)(-14.16, -170.4)(-18.08, 178.2)(-22.16, 166.2)(-9.26, 159.5)(-0.32, 166.5)(11.35, 165.2)(21.19, -157.5)(1.52, -157.2)(-9.45, -139.0)(-17.32, -149.3)(-25.04, -130.0)(-27.07, -109.2)"
          ]
        }
      ],
      "source": [
        "test_case_file = open(\"gr229.txt\", \"r\")\n",
        "Lines = test_case_file.readlines()\n",
        "coords=[]\n",
        "for line in Lines:\n",
        "    city = (list(line.split(' '))[2:])\n",
        "    coords.append( ( float(city[0]) , float(city[1][:-2]) ) )\n",
        "for i in coords:\n",
        "    print(str(i),end='')"
      ]
    },
    {
      "attachments": {},
      "cell_type": "markdown",
      "metadata": {},
      "source": [
        "## تغیین پارامتر ها\n",
        "حال کلاس مورد نظر را بسته به پارامترهایی که به نظرمان بهتر است،  مقداردهی میکنیم. من پس از جند بار ازمایش به خطا به این نتیجه رسیدم که اگر تعدا مورجه ها ۲۰ باشد و نسبت الفا و بتا یک به صد باشد، یعنی الفا ۰.۰۱ و بتا ۵۰ مثلا، در نسل نسبتا خوبی به جواب میرسیم.  هر چند ۱۰ مورچه نیز جواب مشابه را به ما با نسل بیشتر میدهد."
      ]
    },
    {
      "cell_type": "code",
      "execution_count": 314,
      "metadata": {},
      "outputs": [
        {
          "name": "stdout",
          "output_type": "stream",
          "text": [
            "The minimum distance in 1th gen is: 1880.324075654252 and or best minimum distance is: 1880.324075654252 till now\n",
            "The minimum distance in 2th gen is: 1860.3569546570047 and or best minimum distance is: 1860.3569546570047 till now\n",
            "The minimum distance in 3th gen is: 1863.2844553736904 and or best minimum distance is: 1860.3569546570047 till now\n",
            "The minimum distance in 4th gen is: 1852.8200924517657 and or best minimum distance is: 1852.8200924517657 till now\n",
            "The minimum distance in 5th gen is: 1905.3432929604503 and or best minimum distance is: 1852.8200924517657 till now\n",
            "The minimum distance in 6th gen is: 1900.8613382938918 and or best minimum distance is: 1852.8200924517657 till now\n",
            "The minimum distance in 7th gen is: 1909.655428152162 and or best minimum distance is: 1852.8200924517657 till now\n",
            "The minimum distance in 8th gen is: 1871.4906539062288 and or best minimum distance is: 1852.8200924517657 till now\n",
            "The minimum distance in 9th gen is: 1872.6378033535652 and or best minimum distance is: 1852.8200924517657 till now\n",
            "The minimum distance in 10th gen is: 1904.209489524461 and or best minimum distance is: 1852.8200924517657 till now\n",
            "The minimum distance in 11th gen is: 1899.2403881952612 and or best minimum distance is: 1852.8200924517657 till now\n",
            "The minimum distance in 12th gen is: 1883.4001345957427 and or best minimum distance is: 1852.8200924517657 till now\n",
            "The minimum distance in 13th gen is: 1881.2538346637286 and or best minimum distance is: 1852.8200924517657 till now\n",
            "The minimum distance in 14th gen is: 1886.2777322412105 and or best minimum distance is: 1852.8200924517657 till now\n",
            "The minimum distance in 15th gen is: 1871.8269327458843 and or best minimum distance is: 1852.8200924517657 till now\n",
            "The minimum distance in 16th gen is: 1875.6258399518244 and or best minimum distance is: 1852.8200924517657 till now\n",
            "The minimum distance in 17th gen is: 1865.546985646772 and or best minimum distance is: 1852.8200924517657 till now\n",
            "The minimum distance in 18th gen is: 1841.5279627195841 and or best minimum distance is: 1841.5279627195841 till now\n",
            "The minimum distance in 19th gen is: 1888.2530419539282 and or best minimum distance is: 1841.5279627195841 till now\n",
            "The minimum distance in 20th gen is: 1904.5641300474415 and or best minimum distance is: 1841.5279627195841 till now\n",
            "The minimum distance in 21th gen is: 1892.124432300773 and or best minimum distance is: 1841.5279627195841 till now\n",
            "The minimum distance in 22th gen is: 1878.457275461363 and or best minimum distance is: 1841.5279627195841 till now\n",
            "The minimum distance in 23th gen is: 1889.7060019151625 and or best minimum distance is: 1841.5279627195841 till now\n",
            "The minimum distance in 24th gen is: 1908.8198760333682 and or best minimum distance is: 1841.5279627195841 till now\n",
            "The minimum distance in 25th gen is: 1853.3015604251825 and or best minimum distance is: 1841.5279627195841 till now\n",
            "The minimum distance in 26th gen is: 1887.993989405754 and or best minimum distance is: 1841.5279627195841 till now\n",
            "The minimum distance in 27th gen is: 1893.4356158638907 and or best minimum distance is: 1841.5279627195841 till now\n",
            "The minimum distance in 28th gen is: 1904.5255166191719 and or best minimum distance is: 1841.5279627195841 till now\n",
            "The minimum distance in 29th gen is: 1888.3935622050815 and or best minimum distance is: 1841.5279627195841 till now\n",
            "The minimum distance in 30th gen is: 1874.8062630542877 and or best minimum distance is: 1841.5279627195841 till now\n",
            "The minimum distance in 31th gen is: 1897.1900015042015 and or best minimum distance is: 1841.5279627195841 till now\n",
            "The minimum distance in 32th gen is: 1866.7862032477785 and or best minimum distance is: 1841.5279627195841 till now\n",
            "The minimum distance in 33th gen is: 1904.668807437967 and or best minimum distance is: 1841.5279627195841 till now\n",
            "The minimum distance in 34th gen is: 1894.1544591050408 and or best minimum distance is: 1841.5279627195841 till now\n",
            "The minimum distance in 35th gen is: 1879.1084991578925 and or best minimum distance is: 1841.5279627195841 till now\n",
            "The minimum distance in 36th gen is: 1854.114892406615 and or best minimum distance is: 1841.5279627195841 till now\n",
            "The minimum distance in 37th gen is: 1858.357365081552 and or best minimum distance is: 1841.5279627195841 till now\n",
            "The minimum distance in 38th gen is: 1900.118178176628 and or best minimum distance is: 1841.5279627195841 till now\n",
            "The minimum distance in 39th gen is: 1918.0402131663657 and or best minimum distance is: 1841.5279627195841 till now\n",
            "The minimum distance in 40th gen is: 1918.030973419448 and or best minimum distance is: 1841.5279627195841 till now\n",
            "The minimum distance in 41th gen is: 1904.0457393286222 and or best minimum distance is: 1841.5279627195841 till now\n",
            "The minimum distance in 42th gen is: 1881.683943643008 and or best minimum distance is: 1841.5279627195841 till now\n",
            "The minimum distance in 43th gen is: 1905.106513258695 and or best minimum distance is: 1841.5279627195841 till now\n",
            "The minimum distance in 44th gen is: 1903.9589930833322 and or best minimum distance is: 1841.5279627195841 till now\n",
            "The minimum distance in 45th gen is: 1904.868558971595 and or best minimum distance is: 1841.5279627195841 till now\n",
            "The minimum distance in 46th gen is: 1882.715750646658 and or best minimum distance is: 1841.5279627195841 till now\n",
            "The minimum distance in 47th gen is: 1881.713598856414 and or best minimum distance is: 1841.5279627195841 till now\n",
            "The minimum distance in 48th gen is: 1867.58894593078 and or best minimum distance is: 1841.5279627195841 till now\n",
            "The minimum distance in 49th gen is: 1870.999545231947 and or best minimum distance is: 1841.5279627195841 till now\n",
            "The minimum distance in 50th gen is: 1893.2779238161352 and or best minimum distance is: 1841.5279627195841 till now\n",
            "The minimum distance in 51th gen is: 1923.5023409952405 and or best minimum distance is: 1841.5279627195841 till now\n",
            "The minimum distance in 52th gen is: 1875.6823945229012 and or best minimum distance is: 1841.5279627195841 till now\n",
            "The minimum distance in 53th gen is: 1855.2180705388787 and or best minimum distance is: 1841.5279627195841 till now\n",
            "The minimum distance in 54th gen is: 1891.5803571689828 and or best minimum distance is: 1841.5279627195841 till now\n",
            "The minimum distance in 55th gen is: 1884.368427658259 and or best minimum distance is: 1841.5279627195841 till now\n",
            "The minimum distance in 56th gen is: 1902.2401931083896 and or best minimum distance is: 1841.5279627195841 till now\n",
            "The minimum distance in 57th gen is: 1912.6220241036226 and or best minimum distance is: 1841.5279627195841 till now\n",
            "The minimum distance in 58th gen is: 1901.7024817927058 and or best minimum distance is: 1841.5279627195841 till now\n",
            "The minimum distance in 59th gen is: 1922.4220678124013 and or best minimum distance is: 1841.5279627195841 till now\n",
            "The minimum distance in 60th gen is: 1913.2773782617378 and or best minimum distance is: 1841.5279627195841 till now\n",
            "The minimum distance in 61th gen is: 1939.6807407255644 and or best minimum distance is: 1841.5279627195841 till now\n",
            "The minimum distance in 62th gen is: 1908.678832721219 and or best minimum distance is: 1841.5279627195841 till now\n",
            "The minimum distance in 63th gen is: 1887.8703922956881 and or best minimum distance is: 1841.5279627195841 till now\n",
            "The minimum distance in 64th gen is: 1929.2442669601264 and or best minimum distance is: 1841.5279627195841 till now\n",
            "The minimum distance in 65th gen is: 1909.0247838441128 and or best minimum distance is: 1841.5279627195841 till now\n",
            "The minimum distance in 66th gen is: 1854.1056822472558 and or best minimum distance is: 1841.5279627195841 till now\n",
            "The minimum distance in 67th gen is: 1900.6845263089376 and or best minimum distance is: 1841.5279627195841 till now\n",
            "The minimum distance in 68th gen is: 1873.4929261093148 and or best minimum distance is: 1841.5279627195841 till now\n",
            "The minimum distance in 69th gen is: 1886.197481155318 and or best minimum distance is: 1841.5279627195841 till now\n",
            "The minimum distance in 70th gen is: 1866.9102733043496 and or best minimum distance is: 1841.5279627195841 till now\n",
            "The minimum distance in 71th gen is: 1875.975114137773 and or best minimum distance is: 1841.5279627195841 till now\n",
            "The minimum distance in 72th gen is: 1933.0712973160153 and or best minimum distance is: 1841.5279627195841 till now\n",
            "The minimum distance in 73th gen is: 1937.774869693758 and or best minimum distance is: 1841.5279627195841 till now\n",
            "The minimum distance in 74th gen is: 1869.4446572747147 and or best minimum distance is: 1841.5279627195841 till now\n",
            "The minimum distance in 75th gen is: 1887.6263277393916 and or best minimum distance is: 1841.5279627195841 till now\n",
            "The minimum distance in 76th gen is: 1842.7651421054 and or best minimum distance is: 1841.5279627195841 till now\n",
            "The minimum distance in 77th gen is: 1908.5337786843588 and or best minimum distance is: 1841.5279627195841 till now\n",
            "The minimum distance in 78th gen is: 1905.0114382246613 and or best minimum distance is: 1841.5279627195841 till now\n",
            "The minimum distance in 79th gen is: 1907.0027969820655 and or best minimum distance is: 1841.5279627195841 till now\n",
            "The minimum distance in 80th gen is: 1896.4231471611085 and or best minimum distance is: 1841.5279627195841 till now\n",
            "The minimum distance in 81th gen is: 1897.1586851866539 and or best minimum distance is: 1841.5279627195841 till now\n",
            "The minimum distance in 82th gen is: 1880.9844389506752 and or best minimum distance is: 1841.5279627195841 till now\n",
            "The minimum distance in 83th gen is: 1890.1736845105424 and or best minimum distance is: 1841.5279627195841 till now\n",
            "The minimum distance in 84th gen is: 1900.6254371218083 and or best minimum distance is: 1841.5279627195841 till now\n",
            "The minimum distance in 85th gen is: 1876.2840113553157 and or best minimum distance is: 1841.5279627195841 till now\n",
            "The minimum distance in 86th gen is: 1884.188839723537 and or best minimum distance is: 1841.5279627195841 till now\n",
            "The minimum distance in 87th gen is: 1884.498121094007 and or best minimum distance is: 1841.5279627195841 till now\n",
            "The minimum distance in 88th gen is: 1892.508055205146 and or best minimum distance is: 1841.5279627195841 till now\n",
            "The minimum distance in 89th gen is: 1924.2328780616358 and or best minimum distance is: 1841.5279627195841 till now\n",
            "The minimum distance in 90th gen is: 1878.4677293521684 and or best minimum distance is: 1841.5279627195841 till now\n",
            "The minimum distance in 91th gen is: 1884.4133897971847 and or best minimum distance is: 1841.5279627195841 till now\n",
            "The minimum distance in 92th gen is: 1895.9230947766189 and or best minimum distance is: 1841.5279627195841 till now\n",
            "The minimum distance in 93th gen is: 1926.2935441805753 and or best minimum distance is: 1841.5279627195841 till now\n",
            "The minimum distance in 94th gen is: 1882.7735231766965 and or best minimum distance is: 1841.5279627195841 till now\n",
            "The minimum distance in 95th gen is: 1865.9763296817048 and or best minimum distance is: 1841.5279627195841 till now\n",
            "The minimum distance in 96th gen is: 1907.5269538116627 and or best minimum distance is: 1841.5279627195841 till now\n",
            "The minimum distance in 97th gen is: 1888.8453713707063 and or best minimum distance is: 1841.5279627195841 till now\n",
            "The minimum distance in 98th gen is: 1891.6700867708355 and or best minimum distance is: 1841.5279627195841 till now\n",
            "The minimum distance in 99th gen is: 1895.2617599743337 and or best minimum distance is: 1841.5279627195841 till now\n",
            "The minimum distance in 100th gen is: 1890.5795891006526 and or best minimum distance is: 1841.5279627195841 till now\n",
            "The minimum distance in 101th gen is: 1894.7802473777476 and or best minimum distance is: 1841.5279627195841 till now\n",
            "The minimum distance in 102th gen is: 1898.5427473285554 and or best minimum distance is: 1841.5279627195841 till now\n",
            "The minimum distance in 103th gen is: 1875.3134457576475 and or best minimum distance is: 1841.5279627195841 till now\n",
            "The minimum distance in 104th gen is: 1887.6366117442956 and or best minimum distance is: 1841.5279627195841 till now\n",
            "The minimum distance in 105th gen is: 1844.3180021537723 and or best minimum distance is: 1841.5279627195841 till now\n",
            "The minimum distance in 106th gen is: 1861.18415509431 and or best minimum distance is: 1841.5279627195841 till now\n",
            "The minimum distance in 107th gen is: 1885.113170444756 and or best minimum distance is: 1841.5279627195841 till now\n",
            "The minimum distance in 108th gen is: 1868.4509684383934 and or best minimum distance is: 1841.5279627195841 till now\n",
            "The minimum distance in 109th gen is: 1879.60711437278 and or best minimum distance is: 1841.5279627195841 till now\n",
            "The minimum distance in 110th gen is: 1850.394794196559 and or best minimum distance is: 1841.5279627195841 till now\n",
            "The minimum distance in 111th gen is: 1884.0008706862661 and or best minimum distance is: 1841.5279627195841 till now\n",
            "The minimum distance in 112th gen is: 1882.717767180569 and or best minimum distance is: 1841.5279627195841 till now\n",
            "The minimum distance in 113th gen is: 1884.4955118344383 and or best minimum distance is: 1841.5279627195841 till now\n",
            "The minimum distance in 114th gen is: 1854.4578017852336 and or best minimum distance is: 1841.5279627195841 till now\n",
            "The minimum distance in 115th gen is: 1910.1639884505955 and or best minimum distance is: 1841.5279627195841 till now\n",
            "The minimum distance in 116th gen is: 1901.182206609532 and or best minimum distance is: 1841.5279627195841 till now\n",
            "The minimum distance in 117th gen is: 1929.7904736143685 and or best minimum distance is: 1841.5279627195841 till now\n",
            "The minimum distance in 118th gen is: 1855.8518028150818 and or best minimum distance is: 1841.5279627195841 till now\n",
            "The minimum distance in 119th gen is: 1884.4395912686778 and or best minimum distance is: 1841.5279627195841 till now\n",
            "The minimum distance in 120th gen is: 1900.8533569637568 and or best minimum distance is: 1841.5279627195841 till now\n",
            "The minimum distance in 121th gen is: 1913.01068683666 and or best minimum distance is: 1841.5279627195841 till now\n",
            "The minimum distance in 122th gen is: 1878.62412948471 and or best minimum distance is: 1841.5279627195841 till now\n",
            "The minimum distance in 123th gen is: 1861.7529656591983 and or best minimum distance is: 1841.5279627195841 till now\n",
            "The minimum distance in 124th gen is: 1850.5644943076682 and or best minimum distance is: 1841.5279627195841 till now\n",
            "The minimum distance in 125th gen is: 1900.9474180757816 and or best minimum distance is: 1841.5279627195841 till now\n",
            "The minimum distance in 126th gen is: 1882.8156226864523 and or best minimum distance is: 1841.5279627195841 till now\n",
            "The minimum distance in 127th gen is: 1903.283249921748 and or best minimum distance is: 1841.5279627195841 till now\n",
            "The minimum distance in 128th gen is: 1893.585865889069 and or best minimum distance is: 1841.5279627195841 till now\n",
            "The minimum distance in 129th gen is: 1865.2355839955203 and or best minimum distance is: 1841.5279627195841 till now\n",
            "The minimum distance in 130th gen is: 1946.0269285420977 and or best minimum distance is: 1841.5279627195841 till now\n",
            "The minimum distance in 131th gen is: 1887.373599535119 and or best minimum distance is: 1841.5279627195841 till now\n",
            "The minimum distance in 132th gen is: 1890.4888454252143 and or best minimum distance is: 1841.5279627195841 till now\n",
            "The minimum distance in 133th gen is: 1905.8061058531941 and or best minimum distance is: 1841.5279627195841 till now\n",
            "The minimum distance in 134th gen is: 1893.3939287860549 and or best minimum distance is: 1841.5279627195841 till now\n",
            "The minimum distance in 135th gen is: 1891.616235630263 and or best minimum distance is: 1841.5279627195841 till now\n",
            "The minimum distance in 136th gen is: 1878.3846736742055 and or best minimum distance is: 1841.5279627195841 till now\n",
            "The minimum distance in 137th gen is: 1900.8781802448673 and or best minimum distance is: 1841.5279627195841 till now\n",
            "The minimum distance in 138th gen is: 1859.4735619409857 and or best minimum distance is: 1841.5279627195841 till now\n",
            "The minimum distance in 139th gen is: 1902.200660394316 and or best minimum distance is: 1841.5279627195841 till now\n",
            "The minimum distance in 140th gen is: 1891.9687921187826 and or best minimum distance is: 1841.5279627195841 till now\n",
            "The minimum distance in 141th gen is: 1857.7622073408663 and or best minimum distance is: 1841.5279627195841 till now\n",
            "The minimum distance in 142th gen is: 1913.9269574098475 and or best minimum distance is: 1841.5279627195841 till now\n",
            "The minimum distance in 143th gen is: 1900.0364711360326 and or best minimum distance is: 1841.5279627195841 till now\n",
            "The minimum distance in 144th gen is: 1871.6760096854368 and or best minimum distance is: 1841.5279627195841 till now\n",
            "The minimum distance in 145th gen is: 1851.9746460470867 and or best minimum distance is: 1841.5279627195841 till now\n",
            "The minimum distance in 146th gen is: 1850.9942241078522 and or best minimum distance is: 1841.5279627195841 till now\n",
            "The minimum distance in 147th gen is: 1877.729785160098 and or best minimum distance is: 1841.5279627195841 till now\n",
            "The minimum distance in 148th gen is: 1923.3492700445177 and or best minimum distance is: 1841.5279627195841 till now\n",
            "The minimum distance in 149th gen is: 1859.1302504574994 and or best minimum distance is: 1841.5279627195841 till now\n",
            "The minimum distance in 150th gen is: 1881.1183435986763 and or best minimum distance is: 1841.5279627195841 till now\n",
            "The minimum distance in 151th gen is: 1861.1404250576502 and or best minimum distance is: 1841.5279627195841 till now\n",
            "The minimum distance in 152th gen is: 1906.0722352190107 and or best minimum distance is: 1841.5279627195841 till now\n",
            "The minimum distance in 153th gen is: 1884.5826694519046 and or best minimum distance is: 1841.5279627195841 till now\n",
            "The minimum distance in 154th gen is: 1926.7551196697718 and or best minimum distance is: 1841.5279627195841 till now\n",
            "The minimum distance in 155th gen is: 1878.415440682188 and or best minimum distance is: 1841.5279627195841 till now\n",
            "The minimum distance in 156th gen is: 1891.1750033267851 and or best minimum distance is: 1841.5279627195841 till now\n",
            "The minimum distance in 157th gen is: 1900.7652009115202 and or best minimum distance is: 1841.5279627195841 till now\n",
            "The minimum distance in 158th gen is: 1872.9033174113158 and or best minimum distance is: 1841.5279627195841 till now\n",
            "The minimum distance in 159th gen is: 1868.8808356537243 and or best minimum distance is: 1841.5279627195841 till now\n",
            "The minimum distance in 160th gen is: 1919.6850095960694 and or best minimum distance is: 1841.5279627195841 till now\n",
            "The minimum distance in 161th gen is: 1888.0297058696863 and or best minimum distance is: 1841.5279627195841 till now\n",
            "The minimum distance in 162th gen is: 1906.0816067154385 and or best minimum distance is: 1841.5279627195841 till now\n",
            "The minimum distance in 163th gen is: 1885.6247697639249 and or best minimum distance is: 1841.5279627195841 till now\n",
            "The minimum distance in 164th gen is: 1897.7271007414693 and or best minimum distance is: 1841.5279627195841 till now\n",
            "The minimum distance in 165th gen is: 1898.965388939322 and or best minimum distance is: 1841.5279627195841 till now\n",
            "The minimum distance in 166th gen is: 1893.5050612672005 and or best minimum distance is: 1841.5279627195841 till now\n",
            "The minimum distance in 167th gen is: 1889.1230749721046 and or best minimum distance is: 1841.5279627195841 till now\n",
            "The minimum distance in 168th gen is: 1854.9037063904507 and or best minimum distance is: 1841.5279627195841 till now\n",
            "The minimum distance in 169th gen is: 1863.4937938036946 and or best minimum distance is: 1841.5279627195841 till now\n",
            "The minimum distance in 170th gen is: 1903.4832552489813 and or best minimum distance is: 1841.5279627195841 till now\n",
            "The minimum distance in 171th gen is: 1905.0461038135054 and or best minimum distance is: 1841.5279627195841 till now\n",
            "The minimum distance in 172th gen is: 1899.6926933789098 and or best minimum distance is: 1841.5279627195841 till now\n",
            "The minimum distance in 173th gen is: 1921.7256199161452 and or best minimum distance is: 1841.5279627195841 till now\n",
            "The minimum distance in 174th gen is: 1831.5907237276042 and or best minimum distance is: 1831.5907237276042 till now\n",
            "----------------------------------------\n",
            "\n",
            "229-city TSP problem solved in generation 174th with population of20. And best fitness(minimum distance) is: 1831.5907237276042\n",
            "----------------------------------------\n"
          ]
        }
      ],
      "source": [
        "test = AntColony(20, len(coords), coords,alpha=0.01,beta=50,evap_val=0.15)\n",
        "x, y = min_tsp(test, stop_point=1840)\n"
      ]
    },
    {
      "cell_type": "code",
      "execution_count": 315,
      "metadata": {},
      "outputs": [
        {
          "data": {
            "image/png": "[encoded data removed]",
            "text/plain": [
              "<Figure size 640x480 with 1 Axes>"
            ]
          },
          "metadata": {},
          "output_type": "display_data"
        }
      ],
      "source": [
        "import matplotlib.pyplot as plt\n",
        "plt.plot(x, y)\n",
        "plt.xlabel(\"ith generation\")\n",
        "plt.ylabel(\"min distance\")\n",
        "\n",
        "plt.show()\n"
      ]
    },
    {
      "attachments": {},
      "cell_type": "markdown",
      "metadata": {},
      "source": [
        "## تحلیل\n",
        "ملاحظه میکنیم که الگوریتم کلونی مورچگان نسبت به الگوریتم ژنتیک ، عملکرد خیلی بهتر و سریع تری دارد. همچنین این الگوریتم مدلسازی دقیق برای مسأله TSP است.\n",
        "نکته جالب توجه این است که جواب اولیه که در حدود جواب اولیه در الگوریتم ژنتیک است میباشد( چرا که رندوم هستن جفتشون ) اماحتی پس از پیمودن یک نسل، ما به جواب بسیارررر خوبی میرسیم."
      ]
    },
    {
      "attachments": {},
      "cell_type": "markdown",
      "metadata": {},
      "source": [
        "# تست کیس دوم\n",
        "تست کیس دوم که حاوی ۱۰۰۲ شهر هست را از دایرکتوری که در آن قرار داریم، باز میکنیم."
      ]
    },
    {
      "cell_type": "code",
      "execution_count": 5,
      "metadata": {},
      "outputs": [
        {
          "name": "stdout",
          "output_type": "stream",
          "text": [
            "(1150.0, 4000.0)(1050.0, 2750.0)(1150.0, 2250.0)(1250.0, 2050.0)(1350.0, 2350.0)(1050.0, 1550.0)(3350.0, 1700.0)(3450.0, 1450.0)(3550.0, 1600.0)(3950.0, 1700.0)(4050.0, 2000.0)(4050.0, 2150.0)(4250.0, 1650.0)(4150.0, 1500.0)(4450.0, 1450.0)(4400.0, 1700.0)(4600.0, 1850.0)(4900.0, 1550.0)(5100.0, 1550.0)(5350.0, 1450.0)(4950.0, 1700.0)(4850.0, 1900.0)(4900.0, 2050.0)(5000.0, 2150.0)(5100.0, 2050.0)(5400.0, 2050.0)(5750.0, 2000.0)(5900.0, 2050.0)(5600.0, 2250.0)(5400.0, 2300.0)(5250.0, 2250.0)(5000.0, 2350.0)(5000.0, 2550.0)(5050.0, 2800.0)(5250.0, 2750.0)(5450.0, 2750.0)(5400.0, 2950.0)(5200.0, 3150.0)(5050.0, 3100.0)(4950.0, 3300.0)(5100.0, 3600.0)(5200.0, 3650.0)(5350.0, 3750.0)(5450.0, 3750.0)(5600.0, 3750.0)(5600.0, 4250.0)(5450.0, 4250.0)(5350.0, 4150.0)(5050.0, 3800.0)(4950.0, 3500.0)(4700.0, 3500.0)(4400.0, 3700.0)(4450.0, 3500.0)(4100.0, 3500.0)(4150.0, 3300.0)(4100.0, 3150.0)(4300.0, 3300.0)(4500.0, 3150.0)(4500.0, 2950.0)(4700.0, 3000.0)(4700.0, 2800.0)(4700.0, 2500.0)(4600.0, 2350.0)(4550.0, 2500.0)(4550.0, 2800.0)(4300.0, 2800.0)(4100.0, 2950.0)(3700.0, 2800.0)(3550.0, 2800.0)(3400.0, 2700.0)(3400.0, 3200.0)(3700.0, 3100.0)(3550.0, 3300.0)(3350.0, 4250.0)(3350.0, 4650.0)(3250.0, 5200.0)(4000.0, 5050.0)(4100.0, 4750.0)(3950.0, 4650.0)(3950.0, 4250.0)(4200.0, 4150.0)(4200.0, 4550.0)(4500.0, 4400.0)(4700.0, 4350.0)(4700.0, 4750.0)(4500.0, 4800.0)(4500.0, 4950.0)(4350.0, 4750.0)(4350.0, 4900.0)(4247.0, 5150.0)(4354.0, 5256.0)(4247.0, 5256.0)(4100.0, 5250.0)(4100.0, 5350.0)(4000.0, 5550.0)(4199.0, 5554.0)(4305.0, 5554.0)(4304.0, 5447.0)(4500.0, 5450.0)(4500.0, 6050.0)(4650.0, 6000.0)(4800.0, 6100.0)(5050.0, 6050.0)(5150.0, 6150.0)(5300.0, 6050.0)(5400.0, 6050.0)(5150.0, 5500.0)(5250.0, 5350.0)(5300.0, 5150.0)(5650.0, 5350.0)(5800.0, 5350.0)(5650.0, 5500.0)(5800.0, 5500.0)(5750.0, 5700.0)(5750.0, 5850.0)(5700.0, 6000.0)(5700.0, 6150.0)(5550.0, 6000.0)(5550.0, 6150.0)(6000.0, 6600.0)(6000.0, 7000.0)(5550.0, 6650.0)(5400.0, 6550.0)(5300.0, 6450.0)(5150.0, 6550.0)(5150.0, 7000.0)(5050.0, 6550.0)(4800.0, 6500.0)(4650.0, 6400.0)(4500.0, 6550.0)(4250.0, 6700.0)(4250.0, 6350.0)(4250.0, 5950.0)(4100.0, 5850.0)(3950.0, 5950.0)(3800.0, 5950.0)(3950.0, 6350.0)(3800.0, 6350.0)(3250.0, 7000.0)(3300.0, 7450.0)(3300.0, 7550.0)(3900.0, 7850.0)(4250.0, 7800.0)(4400.0, 7750.0)(4250.0, 7300.0)(4450.0, 7450.0)(4650.0, 7450.0)(4550.0, 7650.0)(4550.0, 7900.0)(4650.0, 8150.0)(4400.0, 8250.0)(4250.0, 8250.0)(4550.0, 8750.0)(4550.0, 8950.0)(4250.0, 9250.0)(4300.0, 9450.0)(4500.0, 9750.0)(4300.0, 9950.0)(4300.0, 10150.0)(4100.0, 10150.0)(3900.0, 10150.0)(4200.0, 9850.0)(4050.0, 9700.0)(4200.0, 9450.0)(4050.0, 9200.0)(3900.0, 9250.0)(3750.0, 9500.0)(3450.0, 9450.0)(3300.0, 9350.0)(3300.0, 10650.0)(3450.0, 10450.0)(3750.0, 10500.0)(3600.0, 11100.0)(3750.0, 11200.0)(3750.0, 11400.0)(3600.0, 11600.0)(3900.0, 11550.0)(3900.0, 11400.0)(3900.0, 11150.0)(4100.0, 11150.0)(4300.0, 11150.0)(4600.0, 11100.0)(4600.0, 10850.0)(4550.0, 10550.0)(4500.0, 10250.0)(5600.0, 9750.0)(5600.0, 10250.0)(5950.0, 10250.0)(6100.0, 10250.0)(6250.0, 10200.0)(6400.0, 10300.0)(6200.0, 10300.0)(6150.0, 10400.0)(5950.0, 10550.0)(5650.0, 10550.0)(5600.0, 10850.0)(5950.0, 10850.0)(6050.0, 11050.0)(6150.0, 11050.0)(6200.0, 11150.0)(5950.0, 11150.0)(5600.0, 11100.0)(5950.0, 11650.0)(6050.0, 11550.0)(6450.0, 11550.0)(6350.0, 11350.0)(6550.0, 11350.0)(6500.0, 11150.0)(6650.0, 11050.0)(6950.0, 11250.0)(6950.0, 10650.0)(7000.0, 10500.0)(7200.0, 10500.0)(7200.0, 10200.0)(7100.0, 10250.0)(7050.0, 10400.0)(6900.0, 10450.0)(6700.0, 10300.0)(6850.0, 10200.0)(7000.0, 10050.0)(6800.0, 9950.0)(7000.0, 9800.0)(7100.0, 9750.0)(7300.0, 9650.0)(7300.0, 9350.0)(7300.0, 9150.0)(7300.0, 9000.0)(7000.0, 9000.0)(6900.0, 9000.0)(6950.0, 9250.0)(6700.0, 9150.0)(6800.0, 9350.0)(6700.0, 9650.0)(6700.0, 9800.0)(6600.0, 9800.0)(6500.0, 10050.0)(6400.0, 10050.0)(6200.0, 9950.0)(6100.0, 10050.0)(6100.0, 9800.0)(5950.0, 9750.0)(6000.0, 9600.0)(6150.0, 9200.0)(6250.0, 8950.0)(6250.0, 8850.0)(6350.0, 8850.0)(6150.0, 8600.0)(6150.0, 8500.0)(6000.0, 8450.0)(6000.0, 8600.0)(5550.0, 8950.0)(5550.0, 8750.0)(5650.0, 8150.0)(5550.0, 7900.0)(5550.0, 7650.0)(5650.0, 7450.0)(5900.0, 7350.0)(5950.0, 7650.0)(6000.0, 7850.0)(6400.0, 8350.0)(6450.0, 8600.0)(6500.0, 8700.0)(6500.0, 9000.0)(6600.0, 9000.0)(6699.0, 8856.0)(6699.0, 8750.0)(6805.0, 8749.0)(6750.0, 8600.0)(6750.0, 8500.0)(6600.0, 8000.0)(6900.0, 8350.0)(7200.0, 8000.0)(7350.0, 7650.0)(7000.0, 7350.0)(7100.0, 6750.0)(7100.0, 6600.0)(6800.0, 6000.0)(6603.0, 6057.0)(6498.0, 6057.0)(6604.0, 5950.0)(6700.0, 5800.0)(6600.0, 5700.0)(6550.0, 5500.0)(6800.0, 5500.0)(7100.0, 5500.0)(7100.0, 5100.0)(7350.0, 4900.0)(7350.0, 4750.0)(7350.0, 4150.0)(7350.0, 4050.0)(7350.0, 3900.0)(7350.0, 3800.0)(6950.0, 3900.0)(6850.0, 3800.0)(6850.0, 4050.0)(6950.0, 4150.0)(6650.0, 4900.0)(6700.0, 5050.0)(6700.0, 5300.0)(6600.0, 5200.0)(6250.0, 5500.0)(6106.0, 5606.0)(5999.0, 5607.0)(5998.0, 5500.0)(6250.0, 5000.0)(6100.0, 4800.0)(6000.0, 4450.0)(6100.0, 4400.0)(6100.0, 4150.0)(6000.0, 3950.0)(6000.0, 3800.0)(5850.0, 3750.0)(5750.0, 3450.0)(5850.0, 3050.0)(6000.0, 3200.0)(6000.0, 3300.0)(6100.0, 3650.0)(6148.0, 3556.0)(6148.0, 3450.0)(6254.0, 3557.0)(6450.0, 3750.0)(6450.0, 3650.0)(6450.0, 3450.0)(6254.0, 3206.0)(6148.0, 3206.0)(6148.0, 3099.0)(6450.0, 2950.0)(6450.0, 2800.0)(6300.0, 2800.0)(6150.0, 2800.0)(6000.0, 2800.0)(6150.0, 2300.0)(6300.0, 2300.0)(6450.0, 2300.0)(8100.0, 1700.0)(8200.0, 1450.0)(8300.0, 1600.0)(8700.0, 1700.0)(8800.0, 2000.0)(8800.0, 2150.0)(9000.0, 1650.0)(8900.0, 1500.0)(9200.0, 1450.0)(9150.0, 1700.0)(9350.0, 1850.0)(9650.0, 1550.0)(9850.0, 1550.0)(10100.0, 1450.0)(9700.0, 1700.0)(9600.0, 1900.0)(9650.0, 2050.0)(9750.0, 2150.0)(9850.0, 2050.0)(10150.0, 2050.0)(10500.0, 2000.0)(10650.0, 2050.0)(10350.0, 2250.0)(10150.0, 2300.0)(10000.0, 2250.0)(9750.0, 2350.0)(9750.0, 2550.0)(9800.0, 2800.0)(10000.0, 2750.0)(10200.0, 2750.0)(10150.0, 2950.0)(9950.0, 3150.0)(9800.0, 3100.0)(9700.0, 3300.0)(9850.0, 3600.0)(9950.0, 3650.0)(10100.0, 3750.0)(10200.0, 3750.0)(10350.0, 3750.0)(10350.0, 4250.0)(10200.0, 4250.0)(10100.0, 4150.0)(9800.0, 3800.0)(9700.0, 3500.0)(9450.0, 3500.0)(9150.0, 3700.0)(9200.0, 3500.0)(8850.0, 3500.0)(8900.0, 3300.0)(8850.0, 3150.0)(9050.0, 3300.0)(9250.0, 3150.0)(9250.0, 2950.0)(9450.0, 3000.0)(9450.0, 2800.0)(9450.0, 2500.0)(9350.0, 2350.0)(9300.0, 2500.0)(9300.0, 2800.0)(9050.0, 2800.0)(8850.0, 2950.0)(8450.0, 2800.0)(8300.0, 2800.0)(8150.0, 2700.0)(8150.0, 3200.0)(8450.0, 3100.0)(8300.0, 3300.0)(8100.0, 4250.0)(8100.0, 4650.0)(8000.0, 5200.0)(8750.0, 5050.0)(8850.0, 4750.0)(8700.0, 4650.0)(8700.0, 4250.0)(8950.0, 4150.0)(8950.0, 4550.0)(9250.0, 4400.0)(9450.0, 4350.0)(9450.0, 4750.0)(9250.0, 4800.0)(9250.0, 4950.0)(9100.0, 4750.0)(9100.0, 4900.0)(8997.0, 5150.0)(9104.0, 5256.0)(8997.0, 5256.0)(8850.0, 5250.0)(8850.0, 5350.0)(8750.0, 5550.0)(8949.0, 5554.0)(9055.0, 5554.0)(9054.0, 5447.0)(9250.0, 5450.0)(9250.0, 6050.0)(9400.0, 6000.0)(9550.0, 6100.0)(9800.0, 6050.0)(9900.0, 6150.0)(10050.0, 6050.0)(10150.0, 6050.0)(9900.0, 5500.0)(10000.0, 5350.0)(10050.0, 5150.0)(10400.0, 5350.0)(10550.0, 5350.0)(10400.0, 5500.0)(10550.0, 5500.0)(10500.0, 5700.0)(10500.0, 5850.0)(10450.0, 6000.0)(10450.0, 6150.0)(10300.0, 6000.0)(10300.0, 6150.0)(10750.0, 6600.0)(10750.0, 7000.0)(10300.0, 6650.0)(10150.0, 6550.0)(10050.0, 6450.0)(9900.0, 6550.0)(9900.0, 7000.0)(9800.0, 6550.0)(9550.0, 6500.0)(9400.0, 6400.0)(9250.0, 6550.0)(9000.0, 6700.0)(9000.0, 6350.0)(9000.0, 5950.0)(8850.0, 5850.0)(8700.0, 5950.0)(8550.0, 5950.0)(8700.0, 6350.0)(8550.0, 6350.0)(8000.0, 7000.0)(8050.0, 7450.0)(8050.0, 7550.0)(8650.0, 7850.0)(9000.0, 7800.0)(9150.0, 7750.0)(9000.0, 7300.0)(9200.0, 7450.0)(9400.0, 7450.0)(9300.0, 7650.0)(9300.0, 7900.0)(9400.0, 8150.0)(9150.0, 8250.0)(9000.0, 8250.0)(9300.0, 8750.0)(9300.0, 8950.0)(9000.0, 9250.0)(9050.0, 9450.0)(9250.0, 9750.0)(9050.0, 9950.0)(9050.0, 10150.0)(8850.0, 10150.0)(8650.0, 10150.0)(8950.0, 9850.0)(8800.0, 9700.0)(8950.0, 9450.0)(8800.0, 9200.0)(8650.0, 9250.0)(8500.0, 9500.0)(8200.0, 9450.0)(8050.0, 9350.0)(8050.0, 10650.0)(8200.0, 10450.0)(8500.0, 10500.0)(8350.0, 11100.0)(8500.0, 11200.0)(8500.0, 11400.0)(8350.0, 11600.0)(8650.0, 11550.0)(8650.0, 11400.0)(8650.0, 11150.0)(8850.0, 11150.0)(9050.0, 11150.0)(9350.0, 11100.0)(9350.0, 10850.0)(9300.0, 10550.0)(9250.0, 10250.0)(10350.0, 9750.0)(10350.0, 10250.0)(10700.0, 10250.0)(10850.0, 10250.0)(11000.0, 10200.0)(11150.0, 10300.0)(10950.0, 10300.0)(10900.0, 10400.0)(10700.0, 10550.0)(10400.0, 10550.0)(10350.0, 10850.0)(10700.0, 10850.0)(10800.0, 11050.0)(10900.0, 11050.0)(10950.0, 11150.0)(10700.0, 11150.0)(10350.0, 11100.0)(10700.0, 11650.0)(10800.0, 11550.0)(11200.0, 11550.0)(11100.0, 11350.0)(11300.0, 11350.0)(11250.0, 11150.0)(11400.0, 11050.0)(11700.0, 11250.0)(11700.0, 10650.0)(11750.0, 10500.0)(11950.0, 10500.0)(11950.0, 10200.0)(11850.0, 10250.0)(11800.0, 10400.0)(11650.0, 10450.0)(11450.0, 10300.0)(11600.0, 10200.0)(11750.0, 10050.0)(11550.0, 9950.0)(11750.0, 9800.0)(11850.0, 9750.0)(12050.0, 9650.0)(12050.0, 9350.0)(12050.0, 9150.0)(12050.0, 9000.0)(11750.0, 9000.0)(11650.0, 9000.0)(11700.0, 9250.0)(11450.0, 9150.0)(11550.0, 9350.0)(11450.0, 9650.0)(11450.0, 9800.0)(11350.0, 9800.0)(11250.0, 10050.0)(11150.0, 10050.0)(10950.0, 9950.0)(10850.0, 10050.0)(10850.0, 9800.0)(10700.0, 9750.0)(10750.0, 9600.0)(10900.0, 9200.0)(11000.0, 8950.0)(11000.0, 8850.0)(11100.0, 8850.0)(10900.0, 8600.0)(10900.0, 8500.0)(10750.0, 8450.0)(10750.0, 8600.0)(10300.0, 8950.0)(10300.0, 8750.0)(10400.0, 8150.0)(10300.0, 7900.0)(10300.0, 7650.0)(10400.0, 7450.0)(10650.0, 7350.0)(10700.0, 7650.0)(10750.0, 7850.0)(11150.0, 8350.0)(11200.0, 8600.0)(11250.0, 8700.0)(11250.0, 9000.0)(11350.0, 9000.0)(11449.0, 8856.0)(11449.0, 8750.0)(11555.0, 8749.0)(11500.0, 8600.0)(11500.0, 8500.0)(11350.0, 8000.0)(11650.0, 8350.0)(11950.0, 8000.0)(12100.0, 7650.0)(11750.0, 7350.0)(11850.0, 6750.0)(11850.0, 6600.0)(11550.0, 6000.0)(11353.0, 6057.0)(11248.0, 6057.0)(11354.0, 5950.0)(11450.0, 5800.0)(11350.0, 5700.0)(11300.0, 5500.0)(11550.0, 5500.0)(11850.0, 5500.0)(11850.0, 5100.0)(12100.0, 4900.0)(12100.0, 4750.0)(12100.0, 4150.0)(12100.0, 4050.0)(12100.0, 3900.0)(12100.0, 3800.0)(11700.0, 3900.0)(11600.0, 3800.0)(11600.0, 4050.0)(11700.0, 4150.0)(11400.0, 4900.0)(11450.0, 5050.0)(11450.0, 5300.0)(11350.0, 5200.0)(11000.0, 5500.0)(10856.0, 5606.0)(10749.0, 5607.0)(10748.0, 5500.0)(11000.0, 5000.0)(10850.0, 4800.0)(10750.0, 4450.0)(10850.0, 4400.0)(10850.0, 4150.0)(10750.0, 3950.0)(10750.0, 3800.0)(10600.0, 3750.0)(10500.0, 3450.0)(10600.0, 3050.0)(10750.0, 3200.0)(10750.0, 3300.0)(10850.0, 3650.0)(10898.0, 3556.0)(10898.0, 3450.0)(11004.0, 3557.0)(11200.0, 3750.0)(11200.0, 3650.0)(11200.0, 3450.0)(11004.0, 3206.0)(10898.0, 3206.0)(10898.0, 3099.0)(11200.0, 2950.0)(11200.0, 2800.0)(11050.0, 2800.0)(10900.0, 2800.0)(10750.0, 2800.0)(10900.0, 2300.0)(11050.0, 2300.0)(11200.0, 2300.0)(12850.0, 1700.0)(12950.0, 1450.0)(13050.0, 1600.0)(13450.0, 1700.0)(13550.0, 2000.0)(13550.0, 2150.0)(13750.0, 1650.0)(13650.0, 1500.0)(13950.0, 1450.0)(13900.0, 1700.0)(14100.0, 1850.0)(14400.0, 1550.0)(14600.0, 1550.0)(14850.0, 1450.0)(14450.0, 1700.0)(14350.0, 1900.0)(14400.0, 2050.0)(14500.0, 2150.0)(14600.0, 2050.0)(14900.0, 2050.0)(15250.0, 2000.0)(15400.0, 2050.0)(15100.0, 2250.0)(14900.0, 2300.0)(14750.0, 2250.0)(14500.0, 2350.0)(14500.0, 2550.0)(14550.0, 2800.0)(14750.0, 2750.0)(14950.0, 2750.0)(14900.0, 2950.0)(14700.0, 3150.0)(14550.0, 3100.0)(14450.0, 3300.0)(14600.0, 3600.0)(14700.0, 3650.0)(14850.0, 3750.0)(14950.0, 3750.0)(15100.0, 3750.0)(15100.0, 4250.0)(14950.0, 4250.0)(14850.0, 4150.0)(14550.0, 3800.0)(14450.0, 3500.0)(14200.0, 3500.0)(13900.0, 3700.0)(13950.0, 3500.0)(13600.0, 3500.0)(13650.0, 3300.0)(13600.0, 3150.0)(13800.0, 3300.0)(14000.0, 3150.0)(14000.0, 2950.0)(14200.0, 3000.0)(14200.0, 2800.0)(14200.0, 2500.0)(14100.0, 2350.0)(14050.0, 2500.0)(14050.0, 2800.0)(13800.0, 2800.0)(13600.0, 2950.0)(13200.0, 2800.0)(13050.0, 2800.0)(12900.0, 2700.0)(12900.0, 3200.0)(13200.0, 3100.0)(13050.0, 3300.0)(12850.0, 4250.0)(12850.0, 4650.0)(12750.0, 5200.0)(13500.0, 5050.0)(13600.0, 4750.0)(13450.0, 4650.0)(13450.0, 4250.0)(13700.0, 4150.0)(13700.0, 4550.0)(14000.0, 4400.0)(14200.0, 4350.0)(14200.0, 4750.0)(14000.0, 4800.0)(14000.0, 4950.0)(13850.0, 4750.0)(13850.0, 4900.0)(13747.0, 5150.0)(13854.0, 5256.0)(13747.0, 5256.0)(13600.0, 5250.0)(13600.0, 5350.0)(13500.0, 5550.0)(13699.0, 5554.0)(13805.0, 5554.0)(13804.0, 5447.0)(14000.0, 5450.0)(14000.0, 6050.0)(14150.0, 6000.0)(14300.0, 6100.0)(14550.0, 6050.0)(14650.0, 6150.0)(14800.0, 6050.0)(14900.0, 6050.0)(14650.0, 5500.0)(14750.0, 5350.0)(14800.0, 5150.0)(15150.0, 5350.0)(15300.0, 5350.0)(15150.0, 5500.0)(15300.0, 5500.0)(15250.0, 5700.0)(15250.0, 5850.0)(15200.0, 6000.0)(15200.0, 6150.0)(15050.0, 6000.0)(15050.0, 6150.0)(15500.0, 6600.0)(15500.0, 7000.0)(15050.0, 6650.0)(14900.0, 6550.0)(14800.0, 6450.0)(14650.0, 6550.0)(14650.0, 7000.0)(14550.0, 6550.0)(14300.0, 6500.0)(14150.0, 6400.0)(14000.0, 6550.0)(13750.0, 6700.0)(13750.0, 6350.0)(13750.0, 5950.0)(13600.0, 5850.0)(13450.0, 5950.0)(13300.0, 5950.0)(13450.0, 6350.0)(13300.0, 6350.0)(12750.0, 7000.0)(12800.0, 7450.0)(12800.0, 7550.0)(13400.0, 7850.0)(13750.0, 7800.0)(13900.0, 7750.0)(13750.0, 7300.0)(13950.0, 7450.0)(14150.0, 7450.0)(14050.0, 7650.0)(14050.0, 7900.0)(14150.0, 8150.0)(13900.0, 8250.0)(13750.0, 8250.0)(14050.0, 8750.0)(14050.0, 8950.0)(13750.0, 9250.0)(13800.0, 9450.0)(14000.0, 9750.0)(13800.0, 9950.0)(13800.0, 10150.0)(13600.0, 10150.0)(13400.0, 10150.0)(13700.0, 9850.0)(13550.0, 9700.0)(13700.0, 9450.0)(13550.0, 9200.0)(13400.0, 9250.0)(13250.0, 9500.0)(12950.0, 9450.0)(12800.0, 9350.0)(12800.0, 10650.0)(12950.0, 10450.0)(13250.0, 10500.0)(13100.0, 11100.0)(13250.0, 11200.0)(13250.0, 11400.0)(13100.0, 11600.0)(13400.0, 11550.0)(13400.0, 11400.0)(13400.0, 11150.0)(13600.0, 11150.0)(13800.0, 11150.0)(14100.0, 11100.0)(14100.0, 10850.0)(14050.0, 10550.0)(14000.0, 10250.0)(15100.0, 9750.0)(15100.0, 10250.0)(15450.0, 10250.0)(15600.0, 10250.0)(15750.0, 10200.0)(15900.0, 10300.0)(15700.0, 10300.0)(15650.0, 10400.0)(15450.0, 10550.0)(15150.0, 10550.0)(15100.0, 10850.0)(15450.0, 10850.0)(15550.0, 11050.0)(15650.0, 11050.0)(15700.0, 11150.0)(15450.0, 11150.0)(15100.0, 11100.0)(15450.0, 11650.0)(15550.0, 11550.0)(15950.0, 11550.0)(15850.0, 11350.0)(16050.0, 11350.0)(16000.0, 11150.0)(16150.0, 11050.0)(16450.0, 11250.0)(16450.0, 10650.0)(16500.0, 10500.0)(16700.0, 10500.0)(16700.0, 10200.0)(16600.0, 10250.0)(16550.0, 10400.0)(16400.0, 10450.0)(16200.0, 10300.0)(16350.0, 10200.0)(16500.0, 10050.0)(16300.0, 9950.0)(16500.0, 9800.0)(16600.0, 9750.0)(16800.0, 9650.0)(16800.0, 9350.0)(16800.0, 9150.0)(16800.0, 9000.0)(16500.0, 9000.0)(16400.0, 9000.0)(16450.0, 9250.0)(16200.0, 9150.0)(16300.0, 9350.0)(16200.0, 9650.0)(16200.0, 9800.0)(16100.0, 9800.0)(16000.0, 10050.0)(15900.0, 10050.0)(15700.0, 9950.0)(15600.0, 10050.0)(15600.0, 9800.0)(15450.0, 9750.0)(15500.0, 9600.0)(15650.0, 9200.0)(15750.0, 8950.0)(15750.0, 8850.0)(15850.0, 8850.0)(15650.0, 8600.0)(15650.0, 8500.0)(15500.0, 8450.0)(15500.0, 8600.0)(15050.0, 8950.0)(15050.0, 8750.0)(15150.0, 8150.0)(15050.0, 7900.0)(15050.0, 7650.0)(15150.0, 7450.0)(15400.0, 7350.0)(15450.0, 7650.0)(15500.0, 7850.0)(15900.0, 8350.0)(15950.0, 8600.0)(16000.0, 8700.0)(16000.0, 9000.0)(16100.0, 9000.0)(16199.0, 8856.0)(16199.0, 8750.0)(16305.0, 8749.0)(16250.0, 8600.0)(16250.0, 8500.0)(16100.0, 8000.0)(16400.0, 8350.0)(16700.0, 8000.0)(16850.0, 7650.0)(16500.0, 7350.0)(16600.0, 6750.0)(16600.0, 6600.0)(16300.0, 6000.0)(16103.0, 6057.0)(15998.0, 6057.0)(16104.0, 5950.0)(16200.0, 5800.0)(16100.0, 5700.0)(16050.0, 5500.0)(16300.0, 5500.0)(16600.0, 5500.0)(16600.0, 5100.0)(16850.0, 4900.0)(16850.0, 4750.0)(16850.0, 4150.0)(16850.0, 4050.0)(16850.0, 3900.0)(16850.0, 3800.0)(16450.0, 3900.0)(16350.0, 3800.0)(16350.0, 4050.0)(16450.0, 4150.0)(16150.0, 4900.0)(16200.0, 5050.0)(16200.0, 5300.0)(16100.0, 5200.0)(15750.0, 5500.0)(15606.0, 5606.0)(15499.0, 5607.0)(15498.0, 5500.0)(15750.0, 5000.0)(15600.0, 4800.0)(15500.0, 4450.0)(15600.0, 4400.0)(15600.0, 4150.0)(15500.0, 3950.0)(15500.0, 3800.0)(15350.0, 3750.0)(15250.0, 3450.0)(15350.0, 3050.0)(15500.0, 3200.0)(15500.0, 3300.0)(15600.0, 3650.0)(15648.0, 3556.0)(15648.0, 3450.0)(15754.0, 3557.0)(15950.0, 3750.0)(15950.0, 3650.0)(15950.0, 3450.0)(15754.0, 3206.0)(15648.0, 3206.0)(15648.0, 3099.0)(15950.0, 2950.0)(15950.0, 2800.0)(15800.0, 2800.0)(15650.0, 2800.0)(15500.0, 2800.0)(15650.0, 2300.0)(15800.0, 2300.0)(15950.0, 2300.0)(6450.0, 4950.0)(11200.0, 4950.0)(15950.0, 4950.0)(5050.0, 5750.0)(5050.0, 8450.0)(5050.0, 11650.0)(9800.0, 5750.0)(9800.0, 8450.0)(9800.0, 11650.0)(14550.0, 5750.0)(14550.0, 8450.0)(14550.0, 11650.0)"
          ]
        }
      ],
      "source": [
        "test_case_file = open(\"pr1002.txt\", \"r\")\n",
        "Lines = test_case_file.readlines()\n",
        "coords=[]\n",
        "for line in Lines:\n",
        "    city = (list(line.split(' '))[1:])\n",
        "    coords.append( ( float(city[0]) , float(city[1]) ) )\n",
        "for i in coords:\n",
        "    print(str(i),end='')"
      ]
    },
    {
      "attachments": {},
      "cell_type": "markdown",
      "metadata": {},
      "source": [
        "## تغیین پارامتر ها\n",
        "حال کلاس مورد نظر را بسته به پارامترهایی که به نظرمان بهتر است،  مقداردهی میکنیم. من پس از جند بار ازمایش به خطا به این نتیجه رسیدم که اگر تعدا مورجه ها دوباره همان ۲۰ باشد و نسبت الفا و بتا یک به پنجاه باشد، یعنی الفا ۱ و بتا همان ۵۰ مثلا، در نسل نسبتا خوبی به جواب میرسیم.  هر چند ۵۰ مورچه نیز جواب مشابه را به ما با نسل نسبتا کمتر اما در زمان بیشتر میدهد."
      ]
    },
    {
      "cell_type": "code",
      "execution_count": 6,
      "metadata": {},
      "outputs": [
        {
          "name": "stdout",
          "output_type": "stream",
          "text": [
            "The minimum distance in 1th gen is: 313288.4484136025 and or best minimum distance is: 313288.4484136025 till now\n",
            "The minimum distance in 2th gen is: 319836.9934600367 and or best minimum distance is: 313288.4484136025 till now\n",
            "The minimum distance in 3th gen is: 317870.9957403883 and or best minimum distance is: 313288.4484136025 till now\n",
            "The minimum distance in 4th gen is: 316424.8500716833 and or best minimum distance is: 313288.4484136025 till now\n",
            "The minimum distance in 5th gen is: 318086.0429173327 and or best minimum distance is: 313288.4484136025 till now\n",
            "The minimum distance in 6th gen is: 316186.8137630048 and or best minimum distance is: 313288.4484136025 till now\n",
            "The minimum distance in 7th gen is: 313719.34927314747 and or best minimum distance is: 313288.4484136025 till now\n",
            "The minimum distance in 8th gen is: 312433.25771317753 and or best minimum distance is: 312433.25771317753 till now\n",
            "The minimum distance in 9th gen is: 314484.32621616626 and or best minimum distance is: 312433.25771317753 till now\n",
            "The minimum distance in 10th gen is: 316255.0115879079 and or best minimum distance is: 312433.25771317753 till now\n",
            "The minimum distance in 11th gen is: 314957.09312032635 and or best minimum distance is: 312433.25771317753 till now\n",
            "The minimum distance in 12th gen is: 316227.93433401163 and or best minimum distance is: 312433.25771317753 till now\n",
            "The minimum distance in 13th gen is: 311225.1985969562 and or best minimum distance is: 311225.1985969562 till now\n",
            "The minimum distance in 14th gen is: 315272.1914674153 and or best minimum distance is: 311225.1985969562 till now\n",
            "The minimum distance in 15th gen is: 315144.5532698269 and or best minimum distance is: 311225.1985969562 till now\n",
            "The minimum distance in 16th gen is: 321749.89470341057 and or best minimum distance is: 311225.1985969562 till now\n",
            "The minimum distance in 17th gen is: 320166.27986586787 and or best minimum distance is: 311225.1985969562 till now\n",
            "The minimum distance in 18th gen is: 319995.6663609158 and or best minimum distance is: 311225.1985969562 till now\n",
            "The minimum distance in 19th gen is: 312192.8305545083 and or best minimum distance is: 311225.1985969562 till now\n",
            "The minimum distance in 20th gen is: 314465.0614641821 and or best minimum distance is: 311225.1985969562 till now\n",
            "The minimum distance in 21th gen is: 317812.15712961805 and or best minimum distance is: 311225.1985969562 till now\n",
            "The minimum distance in 22th gen is: 311654.7342649071 and or best minimum distance is: 311225.1985969562 till now\n",
            "The minimum distance in 23th gen is: 318744.19185673783 and or best minimum distance is: 311225.1985969562 till now\n",
            "The minimum distance in 24th gen is: 314978.10772264923 and or best minimum distance is: 311225.1985969562 till now\n",
            "The minimum distance in 25th gen is: 317963.71239218395 and or best minimum distance is: 311225.1985969562 till now\n",
            "The minimum distance in 26th gen is: 314832.63162534084 and or best minimum distance is: 311225.1985969562 till now\n",
            "The minimum distance in 27th gen is: 322163.143215609 and or best minimum distance is: 311225.1985969562 till now\n",
            "The minimum distance in 28th gen is: 313256.1935718112 and or best minimum distance is: 311225.1985969562 till now\n",
            "The minimum distance in 29th gen is: 312696.4951520853 and or best minimum distance is: 311225.1985969562 till now\n",
            "The minimum distance in 30th gen is: 314171.0225756296 and or best minimum distance is: 311225.1985969562 till now\n",
            "The minimum distance in 31th gen is: 317592.2583419322 and or best minimum distance is: 311225.1985969562 till now\n",
            "The minimum distance in 32th gen is: 317997.3849257118 and or best minimum distance is: 311225.1985969562 till now\n",
            "The minimum distance in 33th gen is: 314703.948282182 and or best minimum distance is: 311225.1985969562 till now\n",
            "The minimum distance in 34th gen is: 319472.49992939463 and or best minimum distance is: 311225.1985969562 till now\n",
            "The minimum distance in 35th gen is: 317870.27232381445 and or best minimum distance is: 311225.1985969562 till now\n",
            "The minimum distance in 36th gen is: 315518.607295417 and or best minimum distance is: 311225.1985969562 till now\n",
            "The minimum distance in 37th gen is: 321353.51664470125 and or best minimum distance is: 311225.1985969562 till now\n",
            "The minimum distance in 38th gen is: 302172.6577791622 and or best minimum distance is: 302172.6577791622 till now\n",
            "The minimum distance in 39th gen is: 312972.2342466136 and or best minimum distance is: 302172.6577791622 till now\n",
            "The minimum distance in 40th gen is: 318648.81451097754 and or best minimum distance is: 302172.6577791622 till now\n",
            "The minimum distance in 41th gen is: 314427.3740152646 and or best minimum distance is: 302172.6577791622 till now\n",
            "The minimum distance in 42th gen is: 313503.3144263796 and or best minimum distance is: 302172.6577791622 till now\n",
            "The minimum distance in 43th gen is: 307975.3338274464 and or best minimum distance is: 302172.6577791622 till now\n",
            "The minimum distance in 44th gen is: 315882.5574384262 and or best minimum distance is: 302172.6577791622 till now\n",
            "The minimum distance in 45th gen is: 315708.8113086176 and or best minimum distance is: 302172.6577791622 till now\n",
            "The minimum distance in 46th gen is: 316498.3708631903 and or best minimum distance is: 302172.6577791622 till now\n",
            "The minimum distance in 47th gen is: 313048.5527762321 and or best minimum distance is: 302172.6577791622 till now\n",
            "The minimum distance in 48th gen is: 319563.34885554115 and or best minimum distance is: 302172.6577791622 till now\n",
            "The minimum distance in 49th gen is: 311630.1239056066 and or best minimum distance is: 302172.6577791622 till now\n",
            "----------------------------------------\n",
            "\n",
            "1002-city TSP problem solved in generation 49th with population of20. And best fitness(minimum distance) is: 302172.6577791622\n",
            "----------------------------------------\n"
          ]
        }
      ],
      "source": [
        "test = AntColony(20, len(coords), coords, alpha=1, beta=50, evap_val=0.15)\n",
        "x, y = min_tsp(test, stop_point=300000,stop_gen=50)\n"
      ]
    },
    {
      "attachments": {},
      "cell_type": "markdown",
      "metadata": {},
      "source": [
        "## تحلیل\n",
        "ملاحظه میکنیم که الگوریتم کلونی مورچگان نسبت به الگوریتم ژنتیک ، عملکرد خیلی بهتر و سریع تری دارد. به طوری که در ژنتیک الگوریتم پس از صرف زمان بیسار و گذشتن تعداد خیلی زیادی نسل، به جواب میرسیدیم که خوب بود، اما نه به اندازه الگوریتم کلونی مورچگان. البته دوباره میگم، به نظرم این الگوریتم مدلسازی دقیق برای مسأله TSP است.\n",
        "نکته جالب توجه این است که جواب اولیه که در حدود جواب اولیه در الگوریتم ژنتیک است میباشد( چرا که رندوم هستن جفتشون ) اماحتی پس از پیمودن یک نسل، ما به جواب بسیارررر خوبی میرسیم."
      ]
    },
    {
      "cell_type": "code",
      "execution_count": 7,
      "metadata": {},
      "outputs": [
        {
          "data": {
            "image/png": "[encoded data removed]",
            "text/plain": [
              "<Figure size 640x480 with 1 Axes>"
            ]
          },
          "metadata": {},
          "output_type": "display_data"
        }
      ],
      "source": [
        "import matplotlib.pyplot as plt\n",
        "plt.plot(x, y)\n",
        "plt.xlabel(\"ith generation\")\n",
        "plt.ylabel(\"min distance\")\n",
        "\n",
        "plt.show()\n"
      ]
    }
  ],
  "metadata": {
    "colab": {
      "provenance": []
    },
    "kernelspec": {
      "display_name": "Python 3",
      "name": "python3"
    },
    "language_info": {
      "codemirror_mode": {
        "name": "ipython",
        "version": 3
      },
      "file_extension": ".py",
      "mimetype": "text/x-python",
      "name": "python",
      "nbconvert_exporter": "python",
      "pygments_lexer": "ipython3",
      "version": "3.10.6"
    }
  },
  "nbformat": 4,
  "nbformat_minor": 0
}
